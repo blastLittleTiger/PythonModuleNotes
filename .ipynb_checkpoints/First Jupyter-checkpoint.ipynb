{
 "cells": [
  {
   "cell_type": "code",
   "execution_count": null,
   "metadata": {
    "collapsed": true
   },
   "outputs": [],
   "source": [
    "### Jupyter\n",
    "\n",
    "\n",
    "- Jupyter可以将代码和笔记联系起来，利用Markdown做笔记，可以使用Python等众多的kernel，边学习，边做笔记，\n",
    "\n",
    "  而且，这些代码片还可以再次修改，重复利用，重现当时的情景，另外，可以在此基础上，继续修改。"
   ]
  },
  {
   "cell_type": "code",
   "execution_count": 1,
   "metadata": {
    "collapsed": false
   },
   "outputs": [
    {
     "name": "stdout",
     "output_type": "stream",
     "text": [
      "hello world!\n"
     ]
    }
   ],
   "source": [
    "print(\"hello world!\")"
   ]
  },
  {
   "cell_type": "code",
   "execution_count": 4,
   "metadata": {
    "collapsed": false
   },
   "outputs": [
    {
     "name": "stdout",
     "output_type": "stream",
     "text": [
      "h  e  l  l  o     j  u  p  y  t  e  r  \n",
      "hello jupyter\n"
     ]
    }
   ],
   "source": [
    "x=\"hello jupyter\"\n",
    "\n",
    "for i in x:\n",
    "    print(i+\" \",end=\" \")\n",
    "    \n",
    "print(\"\\n\"+x)"
   ]
  }
 ],
 "metadata": {
  "celltoolbar": "Slideshow",
  "kernelspec": {
   "display_name": "Python 3",
   "language": "python",
   "name": "python3"
  },
  "language_info": {
   "codemirror_mode": {
    "name": "ipython",
    "version": 3
   },
   "file_extension": ".py",
   "mimetype": "text/x-python",
   "name": "python",
   "nbconvert_exporter": "python",
   "pygments_lexer": "ipython3",
   "version": "3.4.4"
  }
 },
 "nbformat": 4,
 "nbformat_minor": 1
}
