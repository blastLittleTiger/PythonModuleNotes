{
 "cells": [
  {
   "cell_type": "code",
   "execution_count": 1,
   "metadata": {
    "collapsed": false
   },
   "outputs": [
    {
     "ename": "SystemExit",
     "evalue": "0",
     "output_type": "error",
     "traceback": [
      "An exception has occurred, use %tb to see the full traceback.\n",
      "\u001b[0;31mSystemExit\u001b[0m\u001b[0;31m:\u001b[0m 0\n"
     ]
    },
    {
     "name": "stderr",
     "output_type": "stream",
     "text": [
      "C:\\Installation\\Anaconda3\\lib\\site-packages\\IPython\\core\\interactiveshell.py:2889: UserWarning: To exit: use 'exit', 'quit', or Ctrl-D.\n",
      "  warn(\"To exit: use 'exit', 'quit', or Ctrl-D.\", stacklevel=1)\n"
     ]
    }
   ],
   "source": [
    "#!/usr/bin/python3\n",
    "# -*- coding: utf-8 -*-\n",
    " \n",
    "\"\"\"\n",
    "PyQt5 教程\n",
    "在这个例子中, 我们用PyQt5创建了一个简单的窗口。\n",
    "\n",
    "\"\"\"\n",
    "#面向过程的方式\n",
    "import sys\n",
    "from PyQt5.QtWidgets import QApplication, QWidget\n",
    " \n",
    "if __name__ == '__main__':\n",
    "    app = QApplication(sys.argv)   #所有的PyQt5应用必须创建一个应用（Application）对象。\n",
    "    w = QWidget()                  #Qwidget组件是PyQt5中所有用户界面类的基础类\n",
    "    w.resize(250, 150)\n",
    "    w.move(300, 300)\n",
    "    w.setWindowTitle('Hello PyQt5！')\n",
    "    w.show()\n",
    "     \n",
    "    sys.exit(app.exec_())"
   ]
  },
  {
   "cell_type": "code",
   "execution_count": null,
   "metadata": {
    "collapsed": true
   },
   "outputs": [],
   "source": [
    "#-*- coding: utf-8 -*-\n",
    "\"\"\"\n",
    "使用面向对象的方式，来进行开发\n",
    "\n",
    "\"\"\"\n",
    "import sys\n",
    "from PyQt5.QtWidgets import QApplication, QWidget\n",
    "from PyQt5.QtGui import QIcon\n",
    "\n",
    "#面向对象的方式\n",
    "class Example(QWidget):#继承了QWidget\n",
    "    def __init__(self):\n",
    "        super().__init__() \n",
    "        self.initUI()    \n",
    "         \n",
    "    def initUI(self):\n",
    "        self.setGeometry(300, 300, 300, 220)#设置坐标和大小\n",
    "        self.setWindowTitle('Icon')\n",
    "        self.setWindowIcon(QIcon('F:\\\\MyTemp\\\\ICO\\\\application.ico')) #设置图标      \n",
    "        self.show()\n",
    "              \n",
    "if __name__ == '__main__':\n",
    "    app = QApplication(sys.argv)\n",
    "    ex = Example()\n",
    "    sys.exit(app.exec_()) #退出循环"
   ]
  },
  {
   "cell_type": "code",
   "execution_count": 1,
   "metadata": {
    "collapsed": false
   },
   "outputs": [
    {
     "ename": "SystemExit",
     "evalue": "0",
     "output_type": "error",
     "traceback": [
      "An exception has occurred, use %tb to see the full traceback.\n",
      "\u001b[1;31mSystemExit\u001b[0m\u001b[1;31m:\u001b[0m 0\n"
     ]
    },
    {
     "name": "stderr",
     "output_type": "stream",
     "text": [
      "D:\\software\\Anaconda3\\lib\\site-packages\\IPython\\core\\interactiveshell.py:2889: UserWarning: To exit: use 'exit', 'quit', or Ctrl-D.\n",
      "  warn(\"To exit: use 'exit', 'quit', or Ctrl-D.\", stacklevel=1)\n"
     ]
    }
   ],
   "source": [
    "# -*- coding: utf-8 -*-\n",
    "\"\"\"\n",
    "设置了图标，添加了一个button\n",
    "\"\"\"\n",
    "import sys\n",
    "from PyQt5.QtWidgets import (QWidget, QToolTip, QPushButton, QApplication)\n",
    "from PyQt5.QtGui import QFont,QIcon  \n",
    " \n",
    "class Example(QWidget):\n",
    "     \n",
    "    def __init__(self):\n",
    "        super().__init__()  \n",
    "        self.initUI() \n",
    "         \n",
    "    def initUI(self):\n",
    "        QToolTip.setFont(QFont('SansSerif', 10))\n",
    "        self.setToolTip('This is a <b>QWidget</b> widget')#设置TooTip\n",
    "        \n",
    "        btn = QPushButton('Button', self)#设置Button\n",
    "        btn.setToolTip('This is a <b>QPushButton</b> widget')#设置Button的TooTip\n",
    "        btn.resize(btn.sizeHint())\n",
    "        btn.move(50, 50)      \n",
    "         \n",
    "        self.setGeometry(300, 300, 300, 200)\n",
    "        self.setWindowTitle('Tooltips') \n",
    "        self.setWindowIcon(QIcon('F:\\\\MyTemp\\\\ICO\\\\application.ico'))\n",
    "        self.show()\n",
    "            \n",
    "if __name__ == '__main__':\n",
    "    app = QApplication(sys.argv)\n",
    "    ex = Example()\n",
    "    sys.exit(app.exec_())"
   ]
  },
  {
   "cell_type": "code",
   "execution_count": 1,
   "metadata": {
    "collapsed": false
   },
   "outputs": [
    {
     "ename": "SystemExit",
     "evalue": "0",
     "output_type": "error",
     "traceback": [
      "An exception has occurred, use %tb to see the full traceback.\n",
      "\u001b[1;31mSystemExit\u001b[0m\u001b[1;31m:\u001b[0m 0\n"
     ]
    },
    {
     "name": "stderr",
     "output_type": "stream",
     "text": [
      "D:\\software\\Anaconda3\\lib\\site-packages\\IPython\\core\\interactiveshell.py:2889: UserWarning: To exit: use 'exit', 'quit', or Ctrl-D.\n",
      "  warn(\"To exit: use 'exit', 'quit', or Ctrl-D.\", stacklevel=1)\n"
     ]
    }
   ],
   "source": [
    "# -*- coding: utf-8 -*-\n",
    " \n",
    "\"\"\"\n",
    "为添加的button关联了一个退出方法\n",
    "This program creates a quit\n",
    "button. When we press the button,\n",
    "the application terminates.\n",
    " \n",
    "\"\"\"\n",
    " \n",
    "import sys\n",
    "from PyQt5.QtWidgets import QWidget, QPushButton, QApplication\n",
    "from PyQt5.QtCore import QCoreApplication\n",
    " \n",
    "class Example(QWidget):\n",
    "     \n",
    "    def __init__(self):\n",
    "        super().__init__()  \n",
    "        self.initUI()\n",
    "         \n",
    "         \n",
    "    def initUI(self):\n",
    "        #一个应用的组件是分层结构的。在这个分层内，大多数组件都有父类。没有父类的组件是顶级窗口\n",
    "        qbtn = QPushButton('Quit', self)\n",
    "        #在PyQt5中，事件处理系统由信号&槽机制建立。如果我们点击了按钮，信号clicked被发送。\n",
    "        #槽可以是Qt内置的槽或Python 的一个方法调用。\n",
    "        qbtn.clicked.connect(QCoreApplication.instance().quit)\n",
    "        qbtn.resize(qbtn.sizeHint())\n",
    "        qbtn.move(50, 50)      \n",
    "         \n",
    "        self.setGeometry(300, 300, 250, 150)\n",
    "        self.setWindowTitle('Quit button')   \n",
    "        self.show()\n",
    "                  \n",
    "if __name__ == '__main__':\n",
    "     \n",
    "    app = QApplication(sys.argv)\n",
    "    ex = Example()\n",
    "    sys.exit(app.exec_())"
   ]
  },
  {
   "cell_type": "code",
   "execution_count": 1,
   "metadata": {
    "collapsed": false
   },
   "outputs": [
    {
     "ename": "SystemExit",
     "evalue": "0",
     "output_type": "error",
     "traceback": [
      "An exception has occurred, use %tb to see the full traceback.\n",
      "\u001b[1;31mSystemExit\u001b[0m\u001b[1;31m:\u001b[0m 0\n"
     ]
    },
    {
     "name": "stderr",
     "output_type": "stream",
     "text": [
      "D:\\software\\Anaconda3\\lib\\site-packages\\IPython\\core\\interactiveshell.py:2889: UserWarning: To exit: use 'exit', 'quit', or Ctrl-D.\n",
      "  warn(\"To exit: use 'exit', 'quit', or Ctrl-D.\", stacklevel=1)\n"
     ]
    }
   ],
   "source": [
    "# -*- coding: utf-8 -*-\n",
    " \n",
    "\"\"\"\n",
    "MessageBox的使用例子\n",
    "This program shows a confirmation\n",
    "message box when we click on the close\n",
    "button of the application window.\n",
    "\"\"\"\n",
    " \n",
    "import sys\n",
    "from PyQt5.QtWidgets import QWidget, QMessageBox, QApplication\n",
    " \n",
    "class Example(QWidget):\n",
    "    def __init__(self):\n",
    "        super().__init__()\n",
    "        self.initUI()\n",
    "         \n",
    "         \n",
    "    def initUI(self):              \n",
    "        self.setGeometry(300, 300, 250, 150)       \n",
    "        self.setWindowTitle('Message box')   \n",
    "        self.show()\n",
    "         \n",
    "         \n",
    "    def closeEvent(self, event):\n",
    "        #如果我们关闭一个QWidget，QCloseEvent类事件将被生成。要修改组件动作我们需要重新实现closeEvent()事件处理方法。\n",
    "        reply = QMessageBox.question(self, 'Message',\n",
    "            \"Are you sure to quit?\", QMessageBox.Yes |\n",
    "            QMessageBox.No, QMessageBox.No)\n",
    " \n",
    "        if reply == QMessageBox.Yes:\n",
    "            event.accept()\n",
    "        else:\n",
    "            event.ignore()\n",
    "            \n",
    "\n",
    "if __name__ == '__main__':\n",
    "    app = QApplication(sys.argv)\n",
    "    ex = Example()\n",
    "    sys.exit(app.exec_())"
   ]
  },
  {
   "cell_type": "code",
   "execution_count": 1,
   "metadata": {
    "collapsed": false
   },
   "outputs": [
    {
     "ename": "SystemExit",
     "evalue": "0",
     "output_type": "error",
     "traceback": [
      "An exception has occurred, use %tb to see the full traceback.\n",
      "\u001b[1;31mSystemExit\u001b[0m\u001b[1;31m:\u001b[0m 0\n"
     ]
    },
    {
     "name": "stderr",
     "output_type": "stream",
     "text": [
      "D:\\software\\Anaconda3\\lib\\site-packages\\IPython\\core\\interactiveshell.py:2889: UserWarning: To exit: use 'exit', 'quit', or Ctrl-D.\n",
      "  warn(\"To exit: use 'exit', 'quit', or Ctrl-D.\", stacklevel=1)\n"
     ]
    }
   ],
   "source": [
    "# -*- coding: utf-8 -*-\n",
    " \n",
    "\"\"\"\n",
    "将程序框放在屏幕中间\n",
    "This program centers a window\n",
    "on the screen.\n",
    "\"\"\"\n",
    " \n",
    "import sys\n",
    "from PyQt5.QtWidgets import QWidget, QDesktopWidget, QApplication\n",
    " \n",
    "class Example(QWidget):\n",
    "    def __init__(self):\n",
    "        super().__init__()\n",
    "        self.initUI()\n",
    "         \n",
    "         \n",
    "    def initUI(self):              \n",
    "        self.resize(250, 150)\n",
    "        self.center()\n",
    "        self.setWindowTitle('Center')   \n",
    "        self.show()\n",
    "         \n",
    "         \n",
    "    def center(self):\n",
    "        #我们获得主窗口的一个矩形特定几何图形。这包含了窗口的框架。\n",
    "        qr = self.frameGeometry()\n",
    "        #我们算出相对于显示器的绝对值。并且从这个绝对值中，我们获得了屏幕中心点。\n",
    "        cp = QDesktopWidget().availableGeometry().center()\n",
    "        #移动到中心\n",
    "        qr.moveCenter(cp)\n",
    "        self.move(qr.topLeft())\n",
    "\n",
    "\n",
    "if __name__ == '__main__':\n",
    "     \n",
    "    app = QApplication(sys.argv)\n",
    "    ex = Example()\n",
    "    sys.exit(app.exec_()) "
   ]
  },
  {
   "cell_type": "code",
   "execution_count": 1,
   "metadata": {
    "collapsed": false
   },
   "outputs": [
    {
     "ename": "SystemExit",
     "evalue": "0",
     "output_type": "error",
     "traceback": [
      "An exception has occurred, use %tb to see the full traceback.\n",
      "\u001b[1;31mSystemExit\u001b[0m\u001b[1;31m:\u001b[0m 0\n"
     ]
    },
    {
     "name": "stderr",
     "output_type": "stream",
     "text": [
      "D:\\software\\Anaconda3\\lib\\site-packages\\IPython\\core\\interactiveshell.py:2889: UserWarning: To exit: use 'exit', 'quit', or Ctrl-D.\n",
      "  warn(\"To exit: use 'exit', 'quit', or Ctrl-D.\", stacklevel=1)\n"
     ]
    }
   ],
   "source": [
    "# -*- coding: utf-8 -*-\n",
    " \n",
    "\"\"\"\n",
    "状态栏的使用\n",
    "This program creates a statusbar.\n",
    "\n",
    "\"\"\"\n",
    " \n",
    "import sys\n",
    "from PyQt5.QtWidgets import QMainWindow, QApplication\n",
    "#QMainWindow类提供了一个应用主窗口。默认创建一个拥有状态栏、工具栏和菜单栏的经典应用窗口骨架。\n",
    "\n",
    "class Example(QMainWindow):\n",
    "     \n",
    "    def __init__(self):\n",
    "        super().__init__()\n",
    "        self.initUI()\n",
    "         \n",
    "         \n",
    "    def initUI(self):              \n",
    "        self.statusBar().showMessage('Ready')#状态栏\n",
    "        self.setGeometry(300, 300, 250, 150)\n",
    "        self.setWindowTitle('Statusbar')   \n",
    "        self.show()\n",
    " \n",
    " \n",
    "if __name__ == '__main__':\n",
    "     \n",
    "    app = QApplication(sys.argv)\n",
    "    ex = Example()\n",
    "    sys.exit(app.exec_())"
   ]
  },
  {
   "cell_type": "code",
   "execution_count": 1,
   "metadata": {
    "collapsed": false
   },
   "outputs": [
    {
     "ename": "SystemExit",
     "evalue": "0",
     "output_type": "error",
     "traceback": [
      "An exception has occurred, use %tb to see the full traceback.\n",
      "\u001b[1;31mSystemExit\u001b[0m\u001b[1;31m:\u001b[0m 0\n"
     ]
    },
    {
     "name": "stderr",
     "output_type": "stream",
     "text": [
      "D:\\software\\Anaconda3\\lib\\site-packages\\IPython\\core\\interactiveshell.py:2889: UserWarning: To exit: use 'exit', 'quit', or Ctrl-D.\n",
      "  warn(\"To exit: use 'exit', 'quit', or Ctrl-D.\", stacklevel=1)\n"
     ]
    }
   ],
   "source": [
    "# -*- coding: utf-8 -*-\n",
    " \n",
    "\"\"\" \n",
    "添加了菜单栏，以及菜单\n",
    "This program creates a menubar. The\n",
    "menubar has one menu with an exit action.\n",
    "\n",
    "\"\"\"\n",
    " \n",
    "import sys\n",
    "from PyQt5.QtWidgets import QMainWindow, QAction, qApp, QApplication\n",
    "from PyQt5.QtGui import QIcon\n",
    " \n",
    "class Example(QMainWindow):\n",
    "    def __init__(self):\n",
    "        super().__init__()\n",
    "        self.initUI()\n",
    "         \n",
    "    def initUI(self):\n",
    "        #QAction是一个用于菜单栏、工具栏或自定义快捷键的抽象动作行为。\n",
    "        exitAction = QAction(QIcon('exit.png'), '&Exit', self)       \n",
    "        exitAction.setShortcut('Ctrl+Q')\n",
    "        exitAction.setStatusTip('Exit application')\n",
    "        exitAction.triggered.connect(qApp.quit)\n",
    " \n",
    "        self.statusBar()\n",
    "        #menuBar()方法创建了一个菜单栏。我们创建一个file菜单，然后将退出动作添加到file菜单中。\n",
    "        menubar = self.menuBar()\n",
    "        fileMenu = menubar.addMenu('&File')\n",
    "        fileMenu.addAction(exitAction)\n",
    "         \n",
    "        self.setGeometry(300, 300, 300, 200)\n",
    "        self.setWindowTitle('Menubar')   \n",
    "        self.show()\n",
    "\n",
    "\n",
    "if __name__ == '__main__':\n",
    "     \n",
    "    app = QApplication(sys.argv)\n",
    "    ex = Example()\n",
    "    sys.exit(app.exec_())"
   ]
  },
  {
   "cell_type": "code",
   "execution_count": 1,
   "metadata": {
    "collapsed": false
   },
   "outputs": [
    {
     "ename": "SystemExit",
     "evalue": "0",
     "output_type": "error",
     "traceback": [
      "An exception has occurred, use %tb to see the full traceback.\n",
      "\u001b[0;31mSystemExit\u001b[0m\u001b[0;31m:\u001b[0m 0\n"
     ]
    },
    {
     "name": "stderr",
     "output_type": "stream",
     "text": [
      "C:\\Installation\\Anaconda3\\lib\\site-packages\\IPython\\core\\interactiveshell.py:2889: UserWarning: To exit: use 'exit', 'quit', or Ctrl-D.\n",
      "  warn(\"To exit: use 'exit', 'quit', or Ctrl-D.\", stacklevel=1)\n"
     ]
    }
   ],
   "source": [
    "# -*- coding: utf-8 -*-\n",
    " \n",
    "\"\"\"\n",
    "添加了工具栏\n",
    "This program creates a toolbar.\n",
    "The toolbar has one action, which\n",
    "terminates the application, if triggered.\n",
    "\n",
    "\"\"\"\n",
    " \n",
    "import sys\n",
    "from PyQt5.QtWidgets import QMainWindow, QAction, qApp, QApplication\n",
    "from PyQt5.QtGui import QIcon\n",
    " \n",
    "class Example(QMainWindow):\n",
    "     \n",
    "    def __init__(self):\n",
    "        super().__init__()\n",
    "        self.initUI()\n",
    "         \n",
    "         \n",
    "    def initUI(self):\n",
    "        #QAction是一个用于菜单栏、工具栏或自定义快捷键的抽象动作行为。\n",
    "        exitAction = QAction(QIcon('F:\\\\MyTemp\\\\ICO\\\\remove-ticket.ico'), 'Exit', self)\n",
    "        exitAction.setShortcut('Ctrl+Q')\n",
    "        exitAction.triggered.connect(qApp.quit)\n",
    "        \n",
    "        #toolbar是工具栏\n",
    "        self.toolbar = self.addToolBar('Exit')\n",
    "        self.toolbar.addAction(exitAction)\n",
    "         \n",
    "        self.setGeometry(300, 300, 300, 200)\n",
    "        self.setWindowTitle('Toolbar')   \n",
    "        self.show()\n",
    "\n",
    "\n",
    "if __name__ == '__main__':\n",
    "     \n",
    "    app = QApplication(sys.argv)\n",
    "    ex = Example()\n",
    "    sys.exit(app.exec_())"
   ]
  },
  {
   "cell_type": "code",
   "execution_count": 1,
   "metadata": {
    "collapsed": false
   },
   "outputs": [
    {
     "ename": "SystemExit",
     "evalue": "0",
     "output_type": "error",
     "traceback": [
      "An exception has occurred, use %tb to see the full traceback.\n",
      "\u001b[1;31mSystemExit\u001b[0m\u001b[1;31m:\u001b[0m 0\n"
     ]
    },
    {
     "name": "stderr",
     "output_type": "stream",
     "text": [
      "D:\\software\\Anaconda3\\lib\\site-packages\\IPython\\core\\interactiveshell.py:2889: UserWarning: To exit: use 'exit', 'quit', or Ctrl-D.\n",
      "  warn(\"To exit: use 'exit', 'quit', or Ctrl-D.\", stacklevel=1)\n"
     ]
    }
   ],
   "source": [
    "# -*- coding: utf-8 -*-\n",
    " \n",
    "\"\"\"\n",
    "有状态栏，菜单栏，工具栏以及一个中心组件的传统应用\n",
    "This program creates a skeleton of\n",
    "a classic GUI application with a menubar,\n",
    "toolbar, statusbar, and a central widget.\n",
    "\n",
    "\"\"\"\n",
    " \n",
    "import sys\n",
    "from PyQt5.QtWidgets import QMainWindow, QTextEdit, QAction, QApplication\n",
    "from PyQt5.QtGui import QIcon\n",
    "\n",
    "class Example(QMainWindow):\n",
    "     \n",
    "    def __init__(self):\n",
    "        super().__init__()\n",
    "        self.initUI()\n",
    "         \n",
    "         \n",
    "    def initUI(self):              \n",
    "        textEdit = QTextEdit()#文本\n",
    "        self.setCentralWidget(textEdit)\n",
    " \n",
    "        exitAction = QAction(QIcon('F:\\\\MyTemp\\\\ICO\\\\remove-ticket.ico'), 'Exit', self)#QAction\n",
    "        exitAction.setShortcut('Ctrl+Q')\n",
    "        exitAction.setStatusTip('Exit application')\n",
    "        exitAction.triggered.connect(self.close)\n",
    " \n",
    "        self.statusBar()#状态栏\n",
    " \n",
    "        menubar = self.menuBar()#菜单按钮\n",
    "        fileMenu = menubar.addMenu('&File')\n",
    "        fileMenu.addAction(exitAction)\n",
    " \n",
    "        toolbar = self.addToolBar('Exit')#工具栏\n",
    "        toolbar.addAction(exitAction)\n",
    "         \n",
    "        self.setGeometry(300, 300, 350, 250)\n",
    "        self.setWindowTitle('Main window')   \n",
    "        self.show()\n",
    "\n",
    "\n",
    "if __name__ == '__main__':\n",
    "     \n",
    "    app = QApplication(sys.argv)\n",
    "    ex = Example()\n",
    "    sys.exit(app.exec_())"
   ]
  },
  {
   "cell_type": "code",
   "execution_count": 1,
   "metadata": {
    "collapsed": false
   },
   "outputs": [
    {
     "ename": "SystemExit",
     "evalue": "0",
     "output_type": "error",
     "traceback": [
      "An exception has occurred, use %tb to see the full traceback.\n",
      "\u001b[1;31mSystemExit\u001b[0m\u001b[1;31m:\u001b[0m 0\n"
     ]
    },
    {
     "name": "stderr",
     "output_type": "stream",
     "text": [
      "D:\\software\\Anaconda3\\lib\\site-packages\\IPython\\core\\interactiveshell.py:2889: UserWarning: To exit: use 'exit', 'quit', or Ctrl-D.\n",
      "  warn(\"To exit: use 'exit', 'quit', or Ctrl-D.\", stacklevel=1)\n"
     ]
    }
   ],
   "source": [
    "# -*- coding: utf-8 -*-\n",
    " \n",
    "\"\"\"\n",
    "绝对的布局方式\n",
    "This example shows three labels on a window\n",
    "using absolute positioning.\n",
    "\"\"\"\n",
    " \n",
    "import sys\n",
    "from PyQt5.QtWidgets import QWidget, QLabel, QApplication\n",
    "\n",
    "#绝对布局方式\n",
    "class Example(QWidget):\n",
    "    def __init__(self):\n",
    "        super().__init__()\n",
    "        self.initUI()\n",
    "           \n",
    "    def initUI(self):\n",
    "        lbl1 = QLabel('Zetcode', self)\n",
    "        lbl1.move(15, 10)#使用move()方法来定位我们的组件\n",
    " \n",
    "        lbl2 = QLabel('tutorials', self)\n",
    "        lbl2.move(35, 40)\n",
    "         \n",
    "        lbl3 = QLabel('for programmers', self)\n",
    "        lbl3.move(55, 70)       \n",
    "         \n",
    "        self.setGeometry(300, 300, 250, 150)\n",
    "        self.setWindowTitle('Absolute')   \n",
    "        self.show()\n",
    "\n",
    "\n",
    "if __name__ == '__main__':\n",
    "    app = QApplication(sys.argv)\n",
    "    ex = Example()\n",
    "    sys.exit(app.exec_())"
   ]
  },
  {
   "cell_type": "code",
   "execution_count": 1,
   "metadata": {
    "collapsed": false,
    "scrolled": true
   },
   "outputs": [
    {
     "ename": "SystemExit",
     "evalue": "0",
     "output_type": "error",
     "traceback": [
      "An exception has occurred, use %tb to see the full traceback.\n",
      "\u001b[1;31mSystemExit\u001b[0m\u001b[1;31m:\u001b[0m 0\n"
     ]
    },
    {
     "name": "stderr",
     "output_type": "stream",
     "text": [
      "D:\\software\\Anaconda3\\lib\\site-packages\\IPython\\core\\interactiveshell.py:2889: UserWarning: To exit: use 'exit', 'quit', or Ctrl-D.\n",
      "  warn(\"To exit: use 'exit', 'quit', or Ctrl-D.\", stacklevel=1)\n"
     ]
    }
   ],
   "source": [
    "# -*- coding: utf-8 -*-\n",
    " \n",
    "\"\"\"\n",
    "箱式布局\n",
    "In this example, we position two push\n",
    "buttons in the bottom-right corner\n",
    "of the window.\n",
    " \n",
    "\"\"\"\n",
    " \n",
    "import sys\n",
    "from PyQt5.QtWidgets import (QWidget, QPushButton,\n",
    "    QHBoxLayout, QVBoxLayout, QApplication)\n",
    "\n",
    "\n",
    "class Example(QWidget):\n",
    "    def __init__(self):\n",
    "        super().__init__()\n",
    "        self.initUI()\n",
    "         \n",
    "         \n",
    "    def initUI(self):\n",
    "        okButton = QPushButton(\"OK\")\n",
    "        cancelButton = QPushButton(\"Cancel\")\n",
    " \n",
    "        hbox = QHBoxLayout()#QHBoxLayout布局类，水平布局类\n",
    "        hbox.addStretch(1)#添加空隙\n",
    "        hbox.addWidget(okButton)\n",
    "        hbox.addWidget(cancelButton)\n",
    " \n",
    "        vbox = QVBoxLayout()#QVBoxLayout布局类，垂直布局类\n",
    "        vbox.addStretch(1)#添加空隙\n",
    "        vbox.addLayout(hbox)\n",
    "         \n",
    "        self.setLayout(vbox)   \n",
    "         \n",
    "        self.setGeometry(300, 300, 300, 150)#设置大小\n",
    "        self.setWindowTitle('Buttons')   \n",
    "        self.show()\n",
    "\n",
    "\n",
    "if __name__ == '__main__':\n",
    "    app = QApplication(sys.argv)\n",
    "    ex = Example()\n",
    "    sys.exit(app.exec_())"
   ]
  },
  {
   "cell_type": "code",
   "execution_count": 1,
   "metadata": {
    "collapsed": false
   },
   "outputs": [
    {
     "ename": "SystemExit",
     "evalue": "0",
     "output_type": "error",
     "traceback": [
      "An exception has occurred, use %tb to see the full traceback.\n",
      "\u001b[0;31mSystemExit\u001b[0m\u001b[0;31m:\u001b[0m 0\n"
     ]
    },
    {
     "name": "stderr",
     "output_type": "stream",
     "text": [
      "C:\\Installation\\Anaconda3\\lib\\site-packages\\IPython\\core\\interactiveshell.py:2889: UserWarning: To exit: use 'exit', 'quit', or Ctrl-D.\n",
      "  warn(\"To exit: use 'exit', 'quit', or Ctrl-D.\", stacklevel=1)\n"
     ]
    }
   ],
   "source": [
    "# -*- coding: utf-8 -*-\n",
    " \n",
    "\"\"\"\n",
    "网格布局 \n",
    "In this example, we create a skeleton\n",
    "of a calculator using a QGridLayout.\n",
    "\n",
    "\"\"\"\n",
    " \n",
    "import sys\n",
    "from PyQt5.QtWidgets import (QWidget, QGridLayout,\n",
    "    QPushButton, QApplication)\n",
    "\n",
    "class Example(QWidget):\n",
    "     \n",
    "    def __init__(self):\n",
    "        super().__init__()\n",
    "        self.initUI()\n",
    "         \n",
    "         \n",
    "    def initUI(self):\n",
    "        grid = QGridLayout()#创建一个网格布局\n",
    "        self.setLayout(grid)\n",
    "  \n",
    "        names = ['Cls', 'Bck', '', 'Close',\n",
    "                 '7', '8', '9', '/',\n",
    "                '4', '5', '6', '*',\n",
    "                 '1', '2', '3', '-',\n",
    "                '0', '.', '=', '+']\n",
    "         \n",
    "        positions = [(i,j) for i in range(5) for j in range(4)]\n",
    "         \n",
    "        for position, name in zip(positions, names):\n",
    "            if name == '':\n",
    "                continue\n",
    "            button = QPushButton(name)\n",
    "            grid.addWidget(button, *position)\n",
    "             \n",
    "        self.move(300, 150)\n",
    "        self.setWindowTitle('Calculator')\n",
    "        self.show()\n",
    "\n",
    "\n",
    "if __name__ == '__main__':\n",
    "    app = QApplication(sys.argv)\n",
    "    ex = Example()\n",
    "    sys.exit(app.exec_())"
   ]
  },
  {
   "cell_type": "code",
   "execution_count": 1,
   "metadata": {
    "collapsed": false
   },
   "outputs": [
    {
     "ename": "SystemExit",
     "evalue": "0",
     "output_type": "error",
     "traceback": [
      "An exception has occurred, use %tb to see the full traceback.\n",
      "\u001b[0;31mSystemExit\u001b[0m\u001b[0;31m:\u001b[0m 0\n"
     ]
    },
    {
     "name": "stderr",
     "output_type": "stream",
     "text": [
      "C:\\Installation\\Anaconda3\\lib\\site-packages\\IPython\\core\\interactiveshell.py:2889: UserWarning: To exit: use 'exit', 'quit', or Ctrl-D.\n",
      "  warn(\"To exit: use 'exit', 'quit', or Ctrl-D.\", stacklevel=1)\n"
     ]
    }
   ],
   "source": [
    "# -*- coding: utf-8 -*-\n",
    " \n",
    "\"\"\"\n",
    "比较复杂的一个布局应用 \n",
    "In this example, we create a bit\n",
    "more complicated window layout using\n",
    "the QGridLayout manager.\n",
    "\n",
    "\"\"\"\n",
    " \n",
    "import sys\n",
    "from PyQt5.QtWidgets import (QWidget, QLabel, QLineEdit,\n",
    "    QTextEdit, QGridLayout, QApplication)\n",
    "\n",
    "class Example(QWidget):\n",
    "     \n",
    "    def __init__(self):\n",
    "        super().__init__()\n",
    "        self.initUI()\n",
    "         \n",
    "         \n",
    "    def initUI(self):\n",
    "        title = QLabel('Title')#label\n",
    "        author = QLabel('Author')\n",
    "        review = QLabel('Review')\n",
    "        \n",
    "        titleEdit = QLineEdit()#行式的输入框\n",
    "        authorEdit = QLineEdit()\n",
    "        reviewEdit = QTextEdit()#文本输入框\n",
    " \n",
    "        grid = QGridLayout()#网格布局\n",
    "        grid.setSpacing(10) #Label和输入框之间的间距\n",
    " \n",
    "        grid.addWidget(title, 1, 0)\n",
    "        grid.addWidget(titleEdit, 1, 1)\n",
    " \n",
    "        grid.addWidget(author, 2, 0)\n",
    "        grid.addWidget(authorEdit, 2, 1)\n",
    " \n",
    "        grid.addWidget(review, 3, 0)\n",
    "        grid.addWidget(reviewEdit, 3, 1, 5, 1)\n",
    "         \n",
    "        self.setLayout(grid)\n",
    "         \n",
    "        self.setGeometry(300, 300, 350, 300)\n",
    "        self.setWindowTitle('Review')   \n",
    "        self.show()\n",
    "              \n",
    "if __name__ == '__main__':\n",
    "    app = QApplication(sys.argv)\n",
    "    ex = Example()\n",
    "    sys.exit(app.exec_())"
   ]
  }
 ],
 "metadata": {
  "kernelspec": {
   "display_name": "Python [default]",
   "language": "python",
   "name": "python3"
  },
  "language_info": {
   "codemirror_mode": {
    "name": "ipython",
    "version": 3
   },
   "file_extension": ".py",
   "mimetype": "text/x-python",
   "name": "python",
   "nbconvert_exporter": "python",
   "pygments_lexer": "ipython3",
   "version": "3.5.2"
  }
 },
 "nbformat": 4,
 "nbformat_minor": 2
}
