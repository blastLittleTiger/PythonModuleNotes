{
 "cells": [
  {
   "cell_type": "markdown",
   "metadata": {},
   "source": [
    "### Jupyter\n",
    "\n",
    "\n",
    "- Jupyter可以将代码和笔记联系起来，利用Markdown做笔记，可以使用Python等众多的kernel，边学习，边做笔记，\n",
    "\n",
    "  而且，这些代码片还可以再次修改，重复利用，重现当时的情景，另外，可以在此基础上，继续修改。"
   ]
  },
  {
   "cell_type": "code",
   "execution_count": 1,
   "metadata": {
    "collapsed": false
   },
   "outputs": [
    {
     "name": "stdout",
     "output_type": "stream",
     "text": [
      "hello world!\n"
     ]
    }
   ],
   "source": [
    "print(\"hello world!\")"
   ]
  },
  {
   "cell_type": "code",
   "execution_count": 6,
   "metadata": {
    "collapsed": false
   },
   "outputs": [
    {
     "name": "stdout",
     "output_type": "stream",
     "text": [
      "h  e  l  l  o     j  u  p  y  t  e  r  \n",
      "hello jupyter\n"
     ]
    }
   ],
   "source": [
    "x=\"hello jupyter\"\n",
    "\n",
    "for i in x:\n",
    "    print(i+\" \",end=\" \")\n",
    "    \n",
    "print(\"\\n\"+x)"
   ]
  },
  {
   "cell_type": "code",
   "execution_count": 10,
   "metadata": {
    "collapsed": false
   },
   "outputs": [
    {
     "data": {
      "text/plain": [
       "[<matplotlib.lines.Line2D at 0x8193e10>]"
      ]
     },
     "execution_count": 10,
     "metadata": {},
     "output_type": "execute_result"
    }
   ],
   "source": [
    "import matplotlib.pyplot as plt\n",
    "import numpy as np\n",
    "\n",
    "x=np.arange(20)\n",
    "\n",
    "y=x**2\n",
    "\n",
    "plt.plot(x,y)"
   ]
  },
  {
   "cell_type": "code",
   "execution_count": 18,
   "metadata": {
    "collapsed": true
   },
   "outputs": [],
   "source": [
    "%matplotlib inline"
   ]
  },
  {
   "cell_type": "markdown",
   "metadata": {},
   "source": [
    "x=np.arange(9)\n",
    "\n",
    "y=np.sin(x)\n",
    "\n",
    "plt.plot(x,y)\n",
    "\n",
    "plt.show()"
   ]
  },
  {
   "cell_type": "markdown",
   "metadata": {},
   "source": [
    "##### 参考文献：\n",
    "\n",
    "[Python·Jupyter Notebook各种使用方法记录,持续更新](http://blog.csdn.net/tina_ttl/article/details/51031113)\n",
    "[Jupyter Notebook 快速入门](http://www.cnblogs.com/nxld/p/6566380.html)\n",
    "[jupyter notebook的安装与使用](http://blog.csdn.net/lee_j_r/article/details/52791228)\n",
    "[27个Jupyter快捷键、技巧](http://www.cnblogs.com/xinlingyoulan/p/5976097.html)\n",
    "[jupyter与spark kernel结合的notebook安装及使用](http://blog.csdn.net/heng_2218/article/details/51006075)\n",
    "[致Python初学者们 - Anaconda入门使用指南](http://www.jianshu.com/p/169403f7e40c)\n",
    "[在Jupyter Notebook（原Ipython Notebook）运行R和一些技巧总结](https://zhuanlan.zhihu.com/p/25430471)\n",
    "[为Jupyter Notebook添加目录](https://zhuanlan.zhihu.com/p/24029578?refer=learnMLb/jupyter_contrib_nbextensions)"
   ]
  }
 ],
 "metadata": {
  "kernelspec": {
   "display_name": "Python [default]",
   "language": "python",
   "name": "python3"
  },
  "language_info": {
   "codemirror_mode": {
    "name": "ipython",
    "version": 3
   },
   "file_extension": ".py",
   "mimetype": "text/x-python",
   "name": "python",
   "nbconvert_exporter": "python",
   "pygments_lexer": "ipython3",
   "version": "3.5.2"
  }
 },
 "nbformat": 4,
 "nbformat_minor": 1
}
