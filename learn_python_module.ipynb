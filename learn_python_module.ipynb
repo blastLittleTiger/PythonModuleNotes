{
 "cells": [
  {
   "cell_type": "code",
   "execution_count": 1,
   "metadata": {
    "collapsed": false
   },
   "outputs": [
    {
     "name": "stdout",
     "output_type": "stream",
     "text": [
      "hello world\n"
     ]
    }
   ],
   "source": [
    "print(\"hello world\")"
   ]
  },
  {
   "cell_type": "code",
   "execution_count": 40,
   "metadata": {
    "collapsed": false
   },
   "outputs": [
    {
     "name": "stdout",
     "output_type": "stream",
     "text": [
      "123\n"
     ]
    }
   ],
   "source": [
    "class abc():\n",
    "    def __init__(self,name):\n",
    "        self.name=name\n",
    "    def printname(self):\n",
    "        print(self.name)\n",
    "        \n",
    "if __name__==\"__main__\":\n",
    "    abc=abc(123)\n",
    "    abc.printname()"
   ]
  },
  {
   "cell_type": "code",
   "execution_count": 41,
   "metadata": {
    "collapsed": false
   },
   "outputs": [
    {
     "name": "stdout",
     "output_type": "stream",
     "text": [
      "24大于10\n"
     ]
    }
   ],
   "source": [
    "def aaa(s):\n",
    "    if s>10:\n",
    "        print(str(s)+\"大于10\")\n",
    "    else:\n",
    "        print(str(s)+\"小于10\")\n",
    "        \n",
    "aaa(24)\n",
    "    "
   ]
  },
  {
   "cell_type": "code",
   "execution_count": 47,
   "metadata": {
    "collapsed": false
   },
   "outputs": [
    {
     "name": "stdout",
     "output_type": "stream",
     "text": [
      "1509538753.3486495\n",
      "<module 'ntpath' from 'D:\\\\software\\\\Anaconda3\\\\lib\\\\ntpath.py'>\n",
      "1992-01-17\n",
      "1\n",
      "9999\n"
     ]
    }
   ],
   "source": [
    "import os\n",
    "print(time.time())\n",
    "print(os.path)\n",
    "import datetime\n",
    "print(datetime.date(1992,1,17))\n",
    "#直接使用模块名，来调用相应的函数即可\n",
    "#os.startfile('C:\\Users\\renjiaxin\\Desktop\\123213.txt')\n",
    "p=datetime.date(1992,1,12)\n",
    "#如果模块的内部有类的话，使用模块名.类名.方法名()这种模式来调用\n",
    "print(p.month)\n",
    "#在帮助文档之中，用绿色标出来的Date字段，就是可以使用模块名直接访问的字段\n",
    "ss=datetime.MAXYEAR\n",
    "print(ss)"
   ]
  },
  {
   "cell_type": "code",
   "execution_count": 43,
   "metadata": {
    "collapsed": false
   },
   "outputs": [
    {
     "name": "stdout",
     "output_type": "stream",
     "text": [
      "[1, 2, 3]\n",
      "[2, 3]\n",
      "[9, 0, 1, 2, 3]\n"
     ]
    }
   ],
   "source": [
    "nest=[[1,2,3],[2,3],[9,0,1,2,3]]\n",
    "for num in nest:\n",
    "    print(num)"
   ]
  },
  {
   "cell_type": "code",
   "execution_count": 44,
   "metadata": {
    "collapsed": false
   },
   "outputs": [
    {
     "name": "stdout",
     "output_type": "stream",
     "text": [
      "2.718281828459045\n",
      "1.2246467991473532e-16\n"
     ]
    }
   ],
   "source": [
    "import math\n",
    "print(math.e)\n",
    "print(math.sin(math.pi))\n",
    "#一个模块之内，可以有多个类，或者函数，或者是模块里面的字段，\n",
    "#(接上)可以直接用模块名，去调用函数"
   ]
  },
  {
   "cell_type": "code",
   "execution_count": 54,
   "metadata": {
    "collapsed": false
   },
   "outputs": [
    {
     "name": "stdout",
     "output_type": "stream",
     "text": [
      "<module 'ntpath' from 'D:\\\\software\\\\Anaconda3\\\\lib\\\\ntpath.py'>\n",
      "3.6275792552847266\n",
      "no info!\n",
      "1992-02-02 Sun Feb  2 00:00:00 1992\n"
     ]
    }
   ],
   "source": [
    "import os\n",
    "print(os.path)\n",
    "import math\n",
    "s=math.sin(2)#使用模块名直接调用模块之中的方法\n",
    "f=s+math.e#模块可以直接调用模块之中的字段，在文档之中用绿色标识在最后标注出来\n",
    "print(f)\n",
    "import datetime\n",
    "tt=datetime.date(1992,2,2)\n",
    "ss=tt.ctime()\n",
    "if(ss==tt):\n",
    "    print(ss+str(\"!=\")+tt)\n",
    "else:\n",
    "    print(\"no info!\")\n",
    "print(tt,ss)"
   ]
  },
  {
   "cell_type": "code",
   "execution_count": 3,
   "metadata": {
    "collapsed": false
   },
   "outputs": [
    {
     "name": "stdout",
     "output_type": "stream",
     "text": [
      "Thu Jan  1 08:03:42 1970\n",
      "time.struct_time(tm_year=2017, tm_mon=11, tm_mday=2, tm_hour=16, tm_min=30, tm_sec=27, tm_wday=3, tm_yday=306, tm_isdst=0)\n",
      "1509640227.2013657\n",
      "1.859375\n",
      "455010.14\n",
      "4.10529085780463e-07\n",
      "1.859375\n",
      "None\n"
     ]
    }
   ],
   "source": [
    "import time\n",
    "\n",
    "print(time.ctime(222))\n",
    "\n",
    "print(time.gmtime())\n",
    "\n",
    "print(time.time())\n",
    "\n",
    "print(time.process_time())\n",
    "\n",
    "print(time.monotonic())\n",
    "\n",
    "print(time.clock())\n",
    "\n",
    "print(time.process_time())\n",
    "\n",
    "print(time.sleep(12))"
   ]
  },
  {
   "cell_type": "code",
   "execution_count": 23,
   "metadata": {
    "collapsed": false
   },
   "outputs": [
    {
     "name": "stdout",
     "output_type": "stream",
     "text": [
      "2.718281828459045\n",
      "0.7625584504796027\n",
      "2017-11-03 00:48:22.879584\n",
      "4\n",
      "12S2Lllll2Uiouoi22\n",
      "年：1992 日：5\n"
     ]
    }
   ],
   "source": [
    "import math\n",
    "print(math.e)#使用模块名，调用模块之中的字段\n",
    "print(math.sin(26))#使用模块名，调用模块之中的函数\n",
    "\n",
    "import datetime\n",
    "print(datetime.datetime.today())#使用模块名，调用模块中类的方法\n",
    "obj=datetime.datetime(2017,11,3)#使用模块中的类，来构造一个对象\n",
    "print(obj.weekday())\n",
    "\n",
    "import string\n",
    "print(string.capwords('12s2lllll2uiouoi22', sep='2'))\n",
    "\n",
    "from time import struct_time\n",
    "st=struct_time((1992,2,5,2,3,4,1,2,8))#使用模块之中的类,调用模块之中的方法\n",
    "print(\"年：\"+str(st.tm_year),\"日：\"+str(st.tm_mday))"
   ]
  },
  {
   "cell_type": "code",
   "execution_count": 32,
   "metadata": {
    "collapsed": false
   },
   "outputs": [
    {
     "name": "stdout",
     "output_type": "stream",
     "text": [
      "Hello World!\n",
      "12\n",
      "12\n",
      "00000000hello world!\n",
      "False\n",
      "HELLO WORLD!\n",
      "1\n"
     ]
    }
   ],
   "source": [
    "ss=\"hello world!\"\n",
    "print(str.title(ss))\n",
    "print(str.__len__(ss))#\n",
    "print(ss.__len__())# 这两个的作用一样，因为是内置的\n",
    "print(ss.zfill(20))\n",
    "print(ss.startswith(\"H\"))\n",
    "print(ss.upper())\n",
    "print(ss.find('e'))\n",
    "#help(str)"
   ]
  },
  {
   "cell_type": "code",
   "execution_count": 6,
   "metadata": {
    "collapsed": false
   },
   "outputs": [
    {
     "name": "stdout",
     "output_type": "stream",
     "text": [
      "<generator object Calendar.iterweekdays at 0x00000218FDCA2888>\n",
      "True\n",
      "1992-02-11 2017-11-15\n",
      "1992-02-11 2017 Wed Nov 15 00:00:00 2017\n",
      "Wed Nov 15 23:58:20 2017 \n",
      " Thu Jan 15 13:58:31 1970 \n",
      " time.struct_time(tm_year=2017, tm_mon=11, tm_mday=15, tm_hour=15, tm_min=58, tm_sec=20, tm_wday=2, tm_yday=319, tm_isdst=0) \n",
      " time.struct_time(tm_year=1970, tm_mon=1, tm_mday=26, tm_hour=17, tm_min=17, tm_sec=2, tm_wday=0, tm_yday=26, tm_isdst=0) \n",
      " 15\n",
      "2017-11-15 23:58:20\n",
      "2008-12-13 17:29:34\n",
      "<class 'datetime.datetime'>\n"
     ]
    }
   ],
   "source": [
    "import calendar\n",
    "cal=calendar.Calendar.iterweekdays(1)\n",
    "print(str(cal))\n",
    "ss1=calendar.isleap(1992)\n",
    "print(ss1)\n",
    "\n",
    "import datetime\n",
    "from datetime import timedelta\n",
    "\n",
    "d1=timedelta(days=2)\n",
    "d1.days\n",
    "\n",
    "d2=datetime.date(1992,2,11)#构造一个自定义时间的日期\n",
    "d3=datetime.date.today()#获取今天的日期\n",
    "\n",
    "print(d2,d3)\n",
    "month1=d2.month#获取月份\n",
    "year1=d3.year\n",
    "print(d2,year1,d3.ctime())\n",
    "now1=datetime.datetime.utcnow()\n",
    "#print(now1)\n",
    "\n",
    "\n",
    "\n",
    "import time\n",
    "st1=time.ctime() #获得当前时间\n",
    "st2=time.ctime(1231111)\n",
    "st3=time.gmtime()\n",
    "st4=time.gmtime(2222222)\n",
    "#st5=time.struct_time(tm_year=2017, tm_mon=11, tm_mday=3, tm_hour=16, tm_min=30, tm_sec=31, tm_wday=4, tm_yday=307, tm_isdst=0) \n",
    "mon1=st3.tm_mday#获取日期\n",
    "print(str(st1),\"\\n\",str(st2),\"\\n\",str(st3),\"\\n\",str(st4),\"\\n\",str(mon1))\n",
    "\n",
    "\n",
    "\n",
    "#时间如何转化\n",
    "#字符串和时间的转化主要是在通过datetime模块，datetime类的strptime()和strftime()两个函数，prase,提取，fromat，转换\n",
    "da=datetime.datetime.now()\n",
    "strtime=da.strftime(\"%Y-%m-%d %H:%M:%S\")#时间转换成字符串\n",
    "print(strtime)\n",
    "timestr=\"2008-12-13 17:29:34\"\n",
    "da2=datetime.datetime.strptime(timestr,\"%Y-%m-%d %H:%M:%S\")\n",
    "print(da2)\n",
    "print(type(da2))"
   ]
  },
  {
   "cell_type": "code",
   "execution_count": 35,
   "metadata": {
    "collapsed": false
   },
   "outputs": [
    {
     "name": "stdout",
     "output_type": "stream",
     "text": [
      "18.76721564941719 , 0.7904923324496766 , 5\n",
      "ttt\n",
      "3\n"
     ]
    }
   ],
   "source": [
    "import random\n",
    "s1=random.uniform(10, 20)\n",
    "s2=random.random()#使用模块之中的方法\n",
    "s3=random.randint(3,6)\n",
    "print(s1, \",\",s2,\",\", s3)\n",
    "m=[1,2,3,4,5,6,\"rrr\",'ttt']\n",
    "s4=random.choice(m)#从一个选定的序列中random\n",
    "print(s4)\n",
    "r1=random.Random()#创建对象，来使用类之中的方法\n",
    "s6=r1.randint(3,9)\n",
    "print(s6)"
   ]
  },
  {
   "cell_type": "code",
   "execution_count": 31,
   "metadata": {
    "collapsed": false
   },
   "outputs": [
    {
     "name": "stdout",
     "output_type": "stream",
     "text": [
      "None\n",
      "os.stat_result(st_mode=16895, st_ino=281474977044859, st_dev=18467, st_nlink=1, st_uid=0, st_gid=0, st_size=0, st_atime=1508820188, st_mtime=1508820188, st_ctime=1508820181)\n",
      "COPYRIGHT\n",
      "javafx-src.zip\n",
      "LICENSE\n",
      "README.html\n",
      "release\n",
      "src.zip\n",
      "THIRDPARTYLICENSEREADME-JAVAFX.txt\n",
      "THIRDPARTYLICENSEREADME.txt\n",
      "<module 'ntpath' from 'D:\\\\software\\\\Anaconda3\\\\lib\\\\ntpath.py'>\n",
      "nt\n",
      "D:\\maven\\localRepository\\classworlds\\classworlds\n",
      "1200 5036\n",
      "['bin', 'COPYRIGHT', 'db', 'include', 'javafx-src.zip', 'jre', 'lib', 'LICENSE', 'README.html', 'release', 'src.zip', 'THIRDPARTYLICENSEREADME-JAVAFX.txt', 'THIRDPARTYLICENSEREADME.txt']\n",
      "----------------\n",
      "jdk1.8.0_131\n",
      "1504663394.363026\n",
      "1504663207.644647\n",
      "False\n",
      "D:\\software\\Java\\jdk1.8.0_131\\123\n",
      "31072\n",
      "False\n"
     ]
    }
   ],
   "source": [
    "#os模块大多处理关于文件夹，文件的创建，文件列表，当前线程，工作目录，执行系统命令和外部命令等工作\n",
    "import os\n",
    "print(os.chdir('D://maven//localRepository//classworlds//classworlds'))\n",
    "print(os.stat('D://maven//localRepository//classworlds//classworlds'))\n",
    "os.getenv('JAVA_HOME')\n",
    "#列出文件夹之中的文件\n",
    "for entry in os.scandir('D:\\\\software\\\\Java\\\\jdk1.8.0_131'):\n",
    "    if not entry.name.startswith('.') and entry.is_file():\n",
    "        print(entry.name)\n",
    "        \n",
    "print(os.path)\n",
    "print(os.name)#返回操作系统名称\n",
    "print(os.getcwd())#返回当前的工作目录\n",
    "os.system('cmd')#调用系统命令\n",
    "os.startfile('D:\\\\software\\\\Dict\\\\Application\\\\YoudaoDict.exe')#执行某一程序\n",
    "os.mkdir(\"d:\\\\123\")#创建目录，也有创建多层次目录的命令os.mkdirs(path)\n",
    "os.rename(\"d:\\\\123\", \"d:\\\\234\") #更改目录名\n",
    "#os.remove(\"d:\\\\234\")#下面两条是删除一个目录，remove在windows下面会抛出IO异常\n",
    "os.rmdir(\"d:\\\\234\")\n",
    "print(os.getpid(),os.getppid())#返回当前的\n",
    "print(os.listdir(os.getenv('JAVA_HOME')))#列出目录\n",
    "s=open('d:\\\\123.txt','a')#这是在内置函数之中的方法，用来操作文件，最后关闭的时候写入\n",
    "s.write('hello world!')\n",
    "s.close()\n",
    "print('----------------')\n",
    "\n",
    "\n",
    "\n",
    "#os.path多处理的是文件夹，文件，路径的问题\n",
    "import os.path\n",
    "print(os.path.basename('D:\\\\software\\\\Java\\\\jdk1.8.0_131'))#名字\n",
    "print(os.path.getatime('D:\\\\software\\\\Java\\\\jdk1.8.0_131'))#该路径创建时间\n",
    "print(os.path.getctime('D:\\\\software\\\\Java\\\\jdk1.8.0_131'))\n",
    "print(os.path.islink('D:\\\\software\\\\Java\\\\jdk1.8.0_131'))#该路径是否为快捷方式\n",
    "print(os.path.realpath('D:\\\\software\\\\Java\\\\jdk1.8.0_131\\\\123'))#返回真实的路径，消除其他的分隔符\n",
    "print(os.path.getsize(('E:\\\\virtualmachine\\\\pass.png')))#返回大小\n",
    "print(os.path.isfile('D:\\\\software\\\\Java\\\\jdk1.8.0_131\\\\123'))#返回是否为文件,还有isdir()函数"
   ]
  },
  {
   "cell_type": "code",
   "execution_count": 2,
   "metadata": {
    "collapsed": false
   },
   "outputs": [
    {
     "name": "stdout",
     "output_type": "stream",
     "text": [
      "3.5.2 |Anaconda 4.2.0 (64-bit)| (default, Jul  5 2016, 11:41:13) [MSC v.1900 64 bit (AMD64)]\n",
      "win32\n",
      "utf-8\n",
      "('_ast', '_bisect', '_codecs', '_codecs_cn', '_codecs_hk', '_codecs_iso2022', '_codecs_jp', '_codecs_kr', '_codecs_tw', '_collections', '_csv', '_datetime', '_functools', '_heapq', '_imp', '_io', '_json', '_locale', '_lsprof', '_md5', '_multibytecodec', '_opcode', '_operator', '_pickle', '_random', '_sha1', '_sha256', '_sha512', '_signal', '_sre', '_stat', '_string', '_struct', '_symtable', '_thread', '_tracemalloc', '_warnings', '_weakref', '_winapi', 'array', 'atexit', 'audioop', 'binascii', 'builtins', 'cmath', 'errno', 'faulthandler', 'gc', 'itertools', 'marshal', 'math', 'mmap', 'msvcrt', 'nt', 'parser', 'sys', 'time', 'winreg', 'xxsubtype', 'zipimport', 'zlib')\n",
      "9223372036854775807\n",
      "9223372036854775807\n",
      "80\n"
     ]
    }
   ],
   "source": [
    "import sys\n",
    "#sys模块提供了一系列有关Python运行环境的变量和函数,可与interpreter相互交互\n",
    "print(sys.version)#Interpreter的版本\n",
    "print(sys.platform)#获取平台名称\n",
    "print(sys.getdefaultencoding())#获取平台编码\n",
    "print(sys.builtin_module_names)#获取内置模块的名字\n",
    "print(sys.maxsize)#返回最大的整数\n",
    "print(sys.maxsize)#返回最大的整数\n",
    "import os.path\n",
    "obj=os.path\n",
    "print(sys.getsizeof(obj))#返回对象的大小\n",
    "#可以用sys.argv获取当前正在执行的命令行参数的参数列表(list)。#sys.argv[0]表示当前程序名，#sys.argv[n]表示第n个参数\n",
    "#参考教程https://www.cnblogs.com/aland-1415/p/6613449.html\n",
    "#sys.argv[]说白了就是一个从程序外部获取参数的桥梁，这个“外部”很关键，可以将外部的参数，传递给程序内的方法之中\n",
    "#所以那些试图从代码来说明它作用的解释一直没看明白。因为我们从外部取得的参数可以是多个，\n",
    "#所以获得的是一个列表（list)，也就是说sys.argv其实可以看作是一个列表，所以才能用[]提取其中的元素。\n",
    "#其第一个元素是程序本身，随后才依次是外部给予的参数。"
   ]
  },
  {
   "cell_type": "code",
   "execution_count": 3,
   "metadata": {
    "collapsed": false
   },
   "outputs": [
    {
     "name": "stdout",
     "output_type": "stream",
     "text": [
      "22\n",
      "22\n",
      "DFS123123YYY.FDSGFDGFD\n",
      "False\n",
      "dfs123123yyy.fdsgfdgfd\n",
      "b'dfs123123YYY.fdsgfdgfd'\n",
      "False\n",
      "9\n",
      "['d', 's123123YYY.', 'dsg', 'dg', 'd']\n",
      "000000000000000000dfs123123YYY.fdsgfdgfd\n",
      "dfs123123YYY.fdsgfdgfd\n",
      "dfs123123YYY.fdsgfdgfd__________________\n",
      "__________________dfs123123YYY.fdsgfdgfd\n",
      "    dfs123123YYY.fdsgfdgfd    \n",
      "The sum of 1 + 2 is 3\n",
      "The sum of 10 * 2 is 20\n",
      "my name is rjx ,age 10 rjx\n",
      "I'm rjx. I'm 22 year old\n",
      "a-b-c\n",
      "Sdfa -Sdfsdf  -Fsdfsdfsd\n"
     ]
    }
   ],
   "source": [
    "#string模块\n",
    "#string是一个库模块，而str是一个内置模块\n",
    "s='dfs123123YYY.fdsgfdgfd'\n",
    "print(str.__len__(s))#上下两个方法作用相同，都是返回长度，__len__是str类的私有方法，而len是builtins模块的内置方法\n",
    "print(len(s))\n",
    "print(s.upper())#转化大写\n",
    "print(s.isdigit())#是否为数字\n",
    "print(s.lower())#转化小写\n",
    "print(s.encode())\n",
    "print(s.endswith('f'))\n",
    "print(s.find('YYY',2,12))#寻找一个字符在不在另一个字符之中\n",
    "print(s.split('f'))#使用一个分隔符，将字符串分割\n",
    "print(s.zfill(40))#使用0从左开始填充某一个字符串，长度为括号之中的数字\n",
    "print(s.replace('sf','123'))#替换部分字符\n",
    "print(s.ljust(40,'_'))#从左从右从中间，将字符串用第二个参数弥补成长度为40的字符串,默认字符为空格填充\n",
    "print(s.rjust(40,'_'))\n",
    "print(s.center(30))\n",
    "#https://www.cnblogs.com/vamei/archive/2013/03/12/2954938.html\n",
    "#https://www.cnblogs.com/benric/p/4965224.html\n",
    "\n",
    "print(\"The sum of 1 + 2 is {0}\".format(1+2))#使用format的新式格式化，使用{}表示参数\n",
    "print(\"The sum of 10 * 2 is %d\" %(10*2))#使用%的旧式格式化，d表示十进制数字，s表示字符串\n",
    "print('my name is {1} ,age {0} {1}'.format(10,'rjx'))#多个位置的格式化\n",
    "print(\"I'm %s. I'm %d year old\" % ('rjx', 22))\n",
    "#https://www.cnblogs.com/jsplyy/p/5634640.html\n",
    "s1='-'\n",
    "s2=('a','b','c')\n",
    "print(s1.join(s2))#使用该连接符将这个有循环的对象连接起来\n",
    "\n",
    "#string模块中的很多都是调用builtins模块之中str类的方法，只有如下一个组合方法，还有部分字段\n",
    "import string\n",
    "s4='sdfa -sdfsdf  -fsdfsdfsd'\n",
    "s5=string.capwords(s4,'-')#使用'-'做区分，并且将每个单词的首字母大写\n",
    "print(s5)"
   ]
  },
  {
   "cell_type": "code",
   "execution_count": 10,
   "metadata": {
    "collapsed": false
   },
   "outputs": [
    {
     "name": "stdout",
     "output_type": "stream",
     "text": [
      "True\n",
      "False\n",
      "[1, 2, 3, ['a', 'c'], 'd']\n",
      "[1, 2, 3, ['a', 'c'], 'd']\n",
      "[1, 2, 3, ['a', 'c'], 'd']\n",
      "[1, 2, 3, ['a', 'c'], 'd']\n",
      "[1, 2, 3, ['a', 'hello python'], 'd']\n",
      "[1, 2, 3, ['a', 'hello python'], 'd']\n",
      "[1, 2, 3, ['a', 'hello python'], 'd']\n",
      "[1, 2, 3, ['a', 'c'], 'd']\n"
     ]
    }
   ],
   "source": [
    "import copy\n",
    "s1=[1,2,3,['a','c'],'d']\n",
    "s2=s1#赋值操作\n",
    "shcps1=copy.copy(s1)#浅拷贝\n",
    "decps1=copy.deepcopy(s1)#深拷贝\n",
    "print(shcps1==decps1)\n",
    "print(shcps1 is decps1)\n",
    "print(s1)\n",
    "print(s2)\n",
    "print(shcps1)\n",
    "print(decps1)\n",
    "s1[3][1]='hello python'\n",
    "print(s1)\n",
    "print(s2)\n",
    "print(shcps1)\n",
    "print(decps1)\n",
    "#https://www.cnblogs.com/xulf/p/4320676.html\n",
    "#http://blog.csdn.net/qq_32907349/article/details/52190796"
   ]
  },
  {
   "cell_type": "code",
   "execution_count": 7,
   "metadata": {
    "collapsed": false
   },
   "outputs": [
    {
     "name": "stdout",
     "output_type": "stream",
     "text": [
      "列表的长度为:5\n",
      "列表下标越界！\n",
      "除数为零！\n",
      "未找到文件！\n"
     ]
    }
   ],
   "source": [
    "#builtins\n",
    "#主要包含了各种异常和一些基本常用的数据结构\n",
    "#BaseException类是所有异常类的父类，它继承于object类，Exception是所有非退出异常的父类，它继承于BaseException类\n",
    "#非退出异常的子类命名，全都是XxxError，还有一种是XxxWarning\n",
    "#退出异常的命名有XxxExit和XxxInterrupt,一共有如下三个退出异常GeneratorExit,KeyboardInterrupt,SystemExit\n",
    "class errorTest:\n",
    "    def __init__(self,mlist,div,mfile):\n",
    "        self.mlist=mlist\n",
    "        self.div=div\n",
    "        self.mfile=mfile\n",
    "    def setarg(self,mlist,div,mfile):\n",
    "        self.mlist=mlist\n",
    "        self.div=div\n",
    "        self.mfile=mfile\n",
    "    def index_error(self):\n",
    "        i=len(self.mlist)\n",
    "        print(\"列表的长度为:\"+str(i))\n",
    "        try:\n",
    "            print(self.mlist[i+1])\n",
    "        except IndexError:\n",
    "            print(\"列表下标越界！\")\n",
    "    def div_error(self):\n",
    "        try:\n",
    "            self.div/0\n",
    "        except ZeroDivisionError:\n",
    "            print(\"除数为零！\")\n",
    "    def file_error(self):\n",
    "        try:\n",
    "            self.f1=open(self.mfile,'r')\n",
    "            self.f1.readline()\n",
    "        except FileNotFoundError:\n",
    "            print(\"未找到文件！\")\n",
    "        else:\n",
    "            self.f1.close()\n",
    "\n",
    "li=[1,2,3,4,5]\n",
    "va=22\n",
    "path='C:\\\\Users\\\\ABC\\\\Desktop\\\\wqweq\\\\123.txt'\n",
    "e=errorTest(li,va,path)\n",
    "e.index_error()#触发了下标越界的异常\n",
    "e.mfile\n",
    "e.div_error()#触发了除数不能为0的异常\n",
    "e.file_error()#触发了文件不存在的异常\n",
    "#http://www.jb51.net/article/55840.htm,从本地加载模块"
   ]
  },
  {
   "cell_type": "code",
   "execution_count": 10,
   "metadata": {
    "collapsed": false
   },
   "outputs": [
    {
     "name": "stdout",
     "output_type": "stream",
     "text": [
      "[-22, -3, 1, 2, 3, 4, 4.87, 5, 5, 9, 9]\n",
      "[9, 9, 5, 5, 4.87, 4, 3, 2, 1, -3, -22]\n",
      "'9g'\n",
      "True\n",
      "请输入kk的值，为整数:10\n",
      "(2, 3)\n",
      "32\n",
      "0xa\n",
      "0b1010\n",
      "11\n",
      "9\n",
      "-22\n",
      "17.87\n",
      "1365640368\n",
      "\n"
     ]
    }
   ],
   "source": [
    "#builtins后续部分\n",
    "#两个排序\n",
    "m=[1,2,3,4,5,9,-3,5,-22,9,4.87]\n",
    "s1=sorted(m)#排序，升序\n",
    "print(s1)\n",
    "s2=sorted(m,reverse=True)#排序，降序\n",
    "print(s2)\n",
    "hj='9g'\n",
    "h=ascii(hj)#转换成asciiz字符串\n",
    "print(h)\n",
    "print(isinstance(m,list))#测试是否为某类型的实例\n",
    "p=23\n",
    "kk=int(input(\"请输入kk的值，为整数:\"))#提示语，输入一个值\n",
    "print(divmod(p,kk))#模除\n",
    "print(pow(2,5))#幂\n",
    "print(hex(kk))#十六进制\n",
    "print(bin(kk))#二进制\n",
    "print(len(m))#长度值\n",
    "print(max(m))#m中最大值\n",
    "print(min(m))#m中最小值\n",
    "print(sum(m))#m求和总值\n",
    "print(id(p))#对象的ID\n",
    "hash((p))#对象的hash\n",
    "#qqq='sdfafsa'\n",
    "#gg=format(qqq,'-')\n",
    "getattr(m,'__sizeof__')#获得某个对象是否有某一个属性，可以使用setattr设置\n",
    "ff=locals()#返回该作用域之内的所有变量\n",
    "#print(ff)\n",
    "#eval,exec,compile这三个函数，都是针对于一个文件，或者语句而言的，一般是先编译，然后再去评估和调用\n",
    "try:\n",
    "    file123=open('D:\\\\123.txt','w+')\n",
    "    #'r'      open for reading (default)\n",
    "    #'w'      open for writing, truncating the file first,如果文件不在，初次会创建一个文件\n",
    "    #'x'      create a new file and open it for writing\n",
    "    #'a'      open for writing, appending to the end of the file if it exists\n",
    "    #'b'      binary mode\n",
    "    #'+'      open a disk file for updating (reading and writing)\n",
    "    s=file123.readline()#读\n",
    "    print(s)\n",
    "    file123.write('dfsdfsgfdsgsdg')#写\n",
    "    file123.close()\n",
    "except FileNotFoundError:\n",
    "    print(\"FileNotFoundError\")"
   ]
  },
  {
   "cell_type": "code",
   "execution_count": 2,
   "metadata": {
    "collapsed": false
   },
   "outputs": [
    {
     "name": "stdout",
     "output_type": "stream",
     "text": [
      "{'a': [1, 2.0, 3, (4+6j)], 'b': ('string', 'Unicode string'), 'c': None}\n",
      "写入成功！\n",
      "{'a': [1, 2.0, 3, (4+6j)], 'b': ('string', 'Unicode string'), 'c': None} 读取成功！\n",
      "b'\\x80\\x03]q\\x00(K\\x01K\\x02K\\x03K\\x04K\\x01K\\x02K\\x03\\x87q\\x01X\\x05\\x00\\x00\\x00helloq\\x02]q\\x03(K\\x01K\\x02X\\x01\\x00\\x00\\x00hq\\x04X\\x01\\x00\\x00\\x00pq\\x05ee.'\n",
      "[1, 2, 3, 4, (1, 2, 3), 'hello', [1, 2, 'h', 'p']]\n",
      "hh==data2\n"
     ]
    }
   ],
   "source": [
    "#python的api之中有很多类似于list(iterable)的，其中的iterable是一类是集合数据类型，如list，tuple，dict，set，str\n",
    "#https://www.2cto.com/kf/201602/489478.html\n",
    "#zip方法是干嘛的\n",
    "#pickle模块\n",
    "import pickle\n",
    "#pickle是腌制的意思，也就是对象的序列化，将动态的对象，保存在一个可以永久存储的文档之中（二进制或者文本）\n",
    "#主要的函数有dump和load方法，分别表示将对象腌制成一个序列化的对象，表示从一个序列化对象加载出对象\n",
    "#pickle的操作，一般而言都和IO有关系，而且是二进制模式的IO\n",
    "#https://www.cnblogs.com/cobbliu/archive/2012/09/04/2670178.html\n",
    "#https://www.cnblogs.com/pzxbc/archive/2012/03/18/2404715.html\n",
    "data1 = {'a': [1, 2.0, 3, 4+6j],'b': ('string', u'Unicode string'),'c': None}\n",
    "print(data1)\n",
    "#写入\n",
    "path=\"d:\\\\pickle.pkl\"\n",
    "try:\n",
    "    fi=open(path,'wb')#写入此文档\n",
    "    pi=pickle.dump(data1,fi)\n",
    "    print(\"写入成功！\")\n",
    "except PickleError:\n",
    "    print(\"写入失败！\")\n",
    "\n",
    "#读取\n",
    "fo=open(path,'rb')\n",
    "dataload=pickle.load(fo)#此处从文档中读取出来\n",
    "print(dataload,\"读取成功！\")\n",
    "\n",
    "\n",
    "#pickle模块的主要作用是，可以将一些状态保存下来，\n",
    "#然后在下一次打开的时候，将其加载出来，保存之前的状态，\n",
    "#比如游戏场景，记录退出之前的情况在下次登录时直接加载\n",
    "\n",
    "#dumps和loads主要是对象和内存的交互，而dump和load主要是对象和文件系统的交互\n",
    "data2=[1,2,3,4,(1,2,3),\"hello\",[1,2,'h','p']]\n",
    "d2=pickle.dumps(data2)\n",
    "print(d2)\n",
    "hh=pickle.loads(d2)\n",
    "print(hh)\n",
    "if(hh==data2):\n",
    "    print(\"hh==data2\")"
   ]
  },
  {
   "cell_type": "code",
   "execution_count": 1,
   "metadata": {
    "collapsed": false
   },
   "outputs": [
    {
     "name": "stdout",
     "output_type": "stream",
     "text": [
      "> <string>(1)<module>()\n",
      "(Pdb) q\n"
     ]
    }
   ],
   "source": [
    "import pdb\n",
    "import hello\n",
    "#help(hello)\n",
    "pdb.run('hello.sayhello()')"
   ]
  },
  {
   "cell_type": "code",
   "execution_count": 3,
   "metadata": {
    "collapsed": false
   },
   "outputs": [
    {
     "name": "stdout",
     "output_type": "stream",
     "text": [
      "> <ipython-input-3-f524ff55b418>(9)<module>()\n",
      "-> b = 2\n",
      "(Pdb) l\n",
      "  4  \t#这种方式是硬编码的\n",
      "  5  \timport pdb\n",
      "  6  \tif __name__ == \"__main__\":\n",
      "  7  \t    a = 1\n",
      "  8  \t    pdb.set_trace()\n",
      "  9  ->\t    b = 2\n",
      " 10  \t    c = a + b\n",
      " 11  \t    print (c)\n",
      "[EOF]\n",
      "(Pdb) a\n",
      "(Pdb) cc=100\n",
      "(Pdb) pp cc\n",
      "100\n",
      "(Pdb) n\n",
      "> <ipython-input-3-f524ff55b418>(10)<module>()\n",
      "-> c = a + b\n",
      "(Pdb) n\n",
      "> <ipython-input-3-f524ff55b418>(11)<module>()\n",
      "-> print (c)\n",
      "(Pdb) n\n",
      "3\n",
      "--Return--\n",
      "> <ipython-input-3-f524ff55b418>(11)<module>()->None\n",
      "-> print (c)\n",
      "(Pdb) n\n",
      "> c:\\installation\\anaconda3\\lib\\site-packages\\ipython\\core\\interactiveshell.py(2884)run_code()\n",
      "-> sys.excepthook = old_excepthook\n",
      "(Pdb) n\n",
      "> c:\\installation\\anaconda3\\lib\\site-packages\\ipython\\core\\interactiveshell.py(2900)run_code()\n",
      "-> outflag = 0\n",
      "(Pdb) n\n",
      "> c:\\installation\\anaconda3\\lib\\site-packages\\ipython\\core\\interactiveshell.py(2901)run_code()\n",
      "-> return outflag\n",
      "(Pdb) n\n",
      "--Return--\n",
      "> c:\\installation\\anaconda3\\lib\\site-packages\\ipython\\core\\interactiveshell.py(2901)run_code()->0\n",
      "-> return outflag\n",
      "(Pdb) n\n",
      "> c:\\installation\\anaconda3\\lib\\site-packages\\ipython\\core\\interactiveshell.py(2818)run_ast_nodes()\n",
      "-> for i, node in enumerate(to_run_exec):\n",
      "(Pdb) q\n"
     ]
    },
    {
     "ename": "BdbQuit",
     "evalue": "",
     "output_type": "error",
     "traceback": [
      "\u001b[0;31m---------------------------------------------------------------------------\u001b[0m",
      "\u001b[0;31mBdbQuit\u001b[0m                                   Traceback (most recent call last)",
      "\u001b[0;32mC:\\Installation\\Anaconda3\\lib\\site-packages\\IPython\\core\\interactiveshell.py\u001b[0m in \u001b[0;36mrun_ast_nodes\u001b[0;34m(self, nodelist, cell_name, interactivity, compiler, result)\u001b[0m\n\u001b[1;32m   2816\u001b[0m \u001b[1;33m\u001b[0m\u001b[0m\n\u001b[1;32m   2817\u001b[0m         \u001b[1;32mtry\u001b[0m\u001b[1;33m:\u001b[0m\u001b[1;33m\u001b[0m\u001b[0m\n\u001b[0;32m-> 2818\u001b[0;31m             \u001b[1;32mfor\u001b[0m \u001b[0mi\u001b[0m\u001b[1;33m,\u001b[0m \u001b[0mnode\u001b[0m \u001b[1;32min\u001b[0m \u001b[0menumerate\u001b[0m\u001b[1;33m(\u001b[0m\u001b[0mto_run_exec\u001b[0m\u001b[1;33m)\u001b[0m\u001b[1;33m:\u001b[0m\u001b[1;33m\u001b[0m\u001b[0m\n\u001b[0m\u001b[1;32m   2819\u001b[0m                 \u001b[0mmod\u001b[0m \u001b[1;33m=\u001b[0m \u001b[0mast\u001b[0m\u001b[1;33m.\u001b[0m\u001b[0mModule\u001b[0m\u001b[1;33m(\u001b[0m\u001b[1;33m[\u001b[0m\u001b[0mnode\u001b[0m\u001b[1;33m]\u001b[0m\u001b[1;33m)\u001b[0m\u001b[1;33m\u001b[0m\u001b[0m\n\u001b[1;32m   2820\u001b[0m                 \u001b[0mcode\u001b[0m \u001b[1;33m=\u001b[0m \u001b[0mcompiler\u001b[0m\u001b[1;33m(\u001b[0m\u001b[0mmod\u001b[0m\u001b[1;33m,\u001b[0m \u001b[0mcell_name\u001b[0m\u001b[1;33m,\u001b[0m \u001b[1;34m\"exec\"\u001b[0m\u001b[1;33m)\u001b[0m\u001b[1;33m\u001b[0m\u001b[0m\n",
      "\u001b[0;32mC:\\Installation\\Anaconda3\\lib\\bdb.py\u001b[0m in \u001b[0;36mtrace_dispatch\u001b[0;34m(self, frame, event, arg)\u001b[0m\n\u001b[1;32m     46\u001b[0m             \u001b[1;32mreturn\u001b[0m \u001b[1;31m# None\u001b[0m\u001b[1;33m\u001b[0m\u001b[0m\n\u001b[1;32m     47\u001b[0m         \u001b[1;32mif\u001b[0m \u001b[0mevent\u001b[0m \u001b[1;33m==\u001b[0m \u001b[1;34m'line'\u001b[0m\u001b[1;33m:\u001b[0m\u001b[1;33m\u001b[0m\u001b[0m\n\u001b[0;32m---> 48\u001b[0;31m             \u001b[1;32mreturn\u001b[0m \u001b[0mself\u001b[0m\u001b[1;33m.\u001b[0m\u001b[0mdispatch_line\u001b[0m\u001b[1;33m(\u001b[0m\u001b[0mframe\u001b[0m\u001b[1;33m)\u001b[0m\u001b[1;33m\u001b[0m\u001b[0m\n\u001b[0m\u001b[1;32m     49\u001b[0m         \u001b[1;32mif\u001b[0m \u001b[0mevent\u001b[0m \u001b[1;33m==\u001b[0m \u001b[1;34m'call'\u001b[0m\u001b[1;33m:\u001b[0m\u001b[1;33m\u001b[0m\u001b[0m\n\u001b[1;32m     50\u001b[0m             \u001b[1;32mreturn\u001b[0m \u001b[0mself\u001b[0m\u001b[1;33m.\u001b[0m\u001b[0mdispatch_call\u001b[0m\u001b[1;33m(\u001b[0m\u001b[0mframe\u001b[0m\u001b[1;33m,\u001b[0m \u001b[0marg\u001b[0m\u001b[1;33m)\u001b[0m\u001b[1;33m\u001b[0m\u001b[0m\n",
      "\u001b[0;32mC:\\Installation\\Anaconda3\\lib\\bdb.py\u001b[0m in \u001b[0;36mdispatch_line\u001b[0;34m(self, frame)\u001b[0m\n\u001b[1;32m     65\u001b[0m         \u001b[1;32mif\u001b[0m \u001b[0mself\u001b[0m\u001b[1;33m.\u001b[0m\u001b[0mstop_here\u001b[0m\u001b[1;33m(\u001b[0m\u001b[0mframe\u001b[0m\u001b[1;33m)\u001b[0m \u001b[1;32mor\u001b[0m \u001b[0mself\u001b[0m\u001b[1;33m.\u001b[0m\u001b[0mbreak_here\u001b[0m\u001b[1;33m(\u001b[0m\u001b[0mframe\u001b[0m\u001b[1;33m)\u001b[0m\u001b[1;33m:\u001b[0m\u001b[1;33m\u001b[0m\u001b[0m\n\u001b[1;32m     66\u001b[0m             \u001b[0mself\u001b[0m\u001b[1;33m.\u001b[0m\u001b[0muser_line\u001b[0m\u001b[1;33m(\u001b[0m\u001b[0mframe\u001b[0m\u001b[1;33m)\u001b[0m\u001b[1;33m\u001b[0m\u001b[0m\n\u001b[0;32m---> 67\u001b[0;31m             \u001b[1;32mif\u001b[0m \u001b[0mself\u001b[0m\u001b[1;33m.\u001b[0m\u001b[0mquitting\u001b[0m\u001b[1;33m:\u001b[0m \u001b[1;32mraise\u001b[0m \u001b[0mBdbQuit\u001b[0m\u001b[1;33m\u001b[0m\u001b[0m\n\u001b[0m\u001b[1;32m     68\u001b[0m         \u001b[1;32mreturn\u001b[0m \u001b[0mself\u001b[0m\u001b[1;33m.\u001b[0m\u001b[0mtrace_dispatch\u001b[0m\u001b[1;33m\u001b[0m\u001b[0m\n\u001b[1;32m     69\u001b[0m \u001b[1;33m\u001b[0m\u001b[0m\n",
      "\u001b[0;31mBdbQuit\u001b[0m: "
     ]
    }
   ],
   "source": [
    "#脚本之中直接设置断点\n",
    "#使用pdb.set_trace()设置断点\n",
    "#这种主要是针对于边写边调试的情况\n",
    "#这种方式是硬编码的\n",
    "import pdb\n",
    "if __name__ == \"__main__\":\n",
    "    a = 1\n",
    "    pdb.set_trace()\n",
    "    b = 2\n",
    "    c = a + b\n",
    "    print (c)"
   ]
  },
  {
   "cell_type": "code",
   "execution_count": 4,
   "metadata": {
    "collapsed": false
   },
   "outputs": [
    {
     "name": "stdout",
     "output_type": "stream",
     "text": [
      "> <string>(1)<module>()->None\n",
      "(Pdb) p1=1\n",
      "(Pdb) p2=2\n",
      "(Pdb) hello2.add(p1,p2)\n",
      "3\n",
      "(Pdb) s=hello2.sub(p1,p2)\n",
      "--Call--\n",
      "> d:\\markdownotes\\jupyter\\jupyter-test\\pythonmodulenotes\\hello2.py(7)main()\n",
      "-> def main():\n",
      "(Pdb) q\n"
     ]
    }
   ],
   "source": [
    "#交互式的pdb调试\n",
    "#pdb.run('mymodule.test()')\n",
    "#此种情况主要适用于脚本已经写好，\n",
    "#调用模块之中的方法，进行调试\n",
    "import pdb\n",
    "import hello2\n",
    "pdb.run('hello2.main()')\n",
    "\n",
    "#常用命令\n",
    "#break 或 b 设置断点,设置断点\n",
    "#continue 或 c,继续执行程序\n",
    "#list 或 l,查看当前行的代码段\n",
    "#step 或 s,进入函数\n",
    "#return 或 r,执行代码直到从当前函数返回\n",
    "#exit 或 q,中止并退出\n",
    "#next 或 n,执行下一行\n",
    "#pp,打印变量的值\n",
    "#help,帮助"
   ]
  },
  {
   "cell_type": "code",
   "execution_count": 4,
   "metadata": {
    "collapsed": false
   },
   "outputs": [
    {
     "name": "stdout",
     "output_type": "stream",
     "text": [
      "<class 'str'>\n",
      "[\"$\", 1, 2, 3, 4, \"jj\", \"y\"]\n",
      "<class 'list'>\n",
      "['$', 1, 2, 3, 4, 'jj', 'y']\n",
      "<class 'str'>\n",
      "{\"month\": 12, \"hour\": 14, \"year\": 2017, \"basic\": [1, 2, 3], \"second\": 22, \"other\": [12, 23, 45, 6, \"uu\", 7], \"minute\": 23, \"day\": 24}\n",
      "<class 'str'>\n",
      "{\n",
      "    \"6h\":7,\n",
      "    \"tr4\":5\n",
      "}\n",
      "True\n",
      "['$', 1, 2, 3, 4, 'jj', 'y']\n"
     ]
    }
   ],
   "source": [
    "import json\n",
    "#dump(...),将一个Python对象，序列化成一个json格式的流，类似于file的write()操作,并且写入到文件之中\n",
    "#load(...),将一个json格式的流，反序列化成一个Python对象，类似于file的read()操作，从文件之中读取\n",
    "#dumps(...),将一个Python对象，序列化成一个json格式的str\n",
    "#loads(...),将一个json格式的str,反序列化成一个Python对象\n",
    "data=['$',1,2,3,4,'jj','y']\n",
    "s=json.dumps(data)\n",
    "print(type(s))\n",
    "print(s)\n",
    "\n",
    "lk=json.loads(s)\n",
    "print(type(lk))\n",
    "print(lk)\n",
    "\n",
    "data2={\"year\":2017,\"month\":12,\"day\":24,\"hour\":14,\"minute\":23,\"second\":22,\"other\":[12,23,45,6,'uu',7],\"basic\":(1,2,3)}\n",
    "ymd=json.dumps(data2)\n",
    "print(type(ymd))\n",
    "print(ymd)\n",
    "\n",
    "#Pretty printing\n",
    "uu1=json.dumps({'tr4': 5, '6h': 7}, sort_keys=True, indent=4, separators=(',', ':'))\n",
    "print(type(uu1))\n",
    "print(uu1)\n",
    "\n",
    "obj = ['foo', {'bar': ['baz', None, 1.0, 2]}]\n",
    "print(json.loads('[\"foo\", {\"bar\":[\"baz\", null, 1.0, 2]}]') == obj)\n",
    "\n",
    "#dumps和loads主要是对象和内存的交互，而dump和load主要是对象和文件系统的交互\n",
    "with open('D:/tmp.json', 'w') as f1:\n",
    "    json.dump(data, f1)\n",
    "    \n",
    "with open('D:/tmp.json', 'r') as f2:\n",
    "    mm=json.load(f2)\n",
    "    print(mm)"
   ]
  },
  {
   "cell_type": "code",
   "execution_count": 6,
   "metadata": {
    "collapsed": false
   },
   "outputs": [
    {
     "name": "stdout",
     "output_type": "stream",
     "text": [
      "<class 'dict'> <class 'tuple'> <class 'list'>\n",
      "{'month': 1, 'year': 2018, 'national': 'Han', 'age': 23, 'weekday': 'sat'}\n",
      "(51, 22, 3, 4, 5, 66, 2, -99, 21)\n",
      "['1gg', 2, 3, 'hi', 'ff', 45]\n",
      "<class 'str'> <class 'str'> <class 'str'>\n",
      "{\"month\": 1, \"year\": 2018, \"national\": \"Han\", \"age\": 23, \"weekday\": \"sat\"}\n",
      "[51, 22, 3, 4, 5, 66, 2, -99, 21]\n",
      "[\"1gg\", 2, 3, \"hi\", \"ff\", 45]\n",
      "--------\n",
      "{'month': 1, 'year': 2018, 'national': 'Han', 'age': 23, 'weekday': 'sat'} <class 'dict'> [51, 22, 3, 4, 5, 66, 2, -99, 21] <class 'list'> ['1gg', 2, 3, 'hi', 'ff', 45] <class 'list'>\n",
      "{'month': 'Jan', 'year': 2018, 'hi': [51, 22, 3, 4, 5, 66, 2, -99, 21], 'age': 23, 'weekday': ['1gg', 2, 3, 'hi', 'ff', 45]} <class 'dict'>\n"
     ]
    }
   ],
   "source": [
    "import json\n",
    "#python--->json\n",
    "dic={\"month\":1,\"age\":23,\"year\":2018,\"weekday\":\"sat\",\"national\":\"Han\"}\n",
    "tu=(51,22,3,4,5,66,2,-99,21)\n",
    "li=['1gg',2,3,'hi','ff',45]\n",
    "print(type(dic),type(tu),type(li))#测试类型\n",
    "print(dic)\n",
    "print(tu)\n",
    "print(li)\n",
    "jdic=json.dumps(dic)#dumps函数\n",
    "jtu=json.dumps(tu)#对象和对象之间的转换，在内存之中\n",
    "jli=json.dumps(li)\n",
    "print(type(jdic),type(jtu),type(jli))#测试类型，但是其实此处都会是str，这个str是JSON形式的str\n",
    "print(jdic)\n",
    "print(jtu)\n",
    "print(jli)\n",
    "print(\"--------\")\n",
    "s1=json.loads(jdic)\n",
    "s2=json.loads(jtu)\n",
    "s3=json.loads(jli)\n",
    "print(s1,type(s1),s2,type(s2),s3,type(s3))#好像json更倾向于和python的list一起转化\n",
    "\n",
    "#对象和文件之间的转换\n",
    "path=\"d:\\\\myjsontest.json\"\n",
    "data={\"month\":\"Jan\",\"age\":23,\"year\":2018,\"weekday\":['1gg',2,3,'hi','ff',45],\"hi\":(51,22,3,4,5,66,2,-99,21)}\n",
    "#使用with可以不用关心close的问题了\n",
    "with open(path,\"w\") as ff:\n",
    "    json.dump(data,ff)\n",
    "\n",
    "with open(path,\"r\") as pp:\n",
    "    sg=json.load(pp)\n",
    "    print(sg,type(sg))"
   ]
  },
  {
   "cell_type": "code",
   "execution_count": 5,
   "metadata": {
    "collapsed": false
   },
   "outputs": [
    {
     "name": "stdout",
     "output_type": "stream",
     "text": [
      "《春思》\n",
      "\n",
      "年代: 唐 作者: 李白\n",
      "\n",
      "燕草如碧丝，秦桑低绿枝。\n",
      "\n",
      "当君怀归日，是妾断肠时。\n",
      "\n",
      "春风不相识，何事入罗帏。\n",
      "-----\n",
      "《春思》\n",
      "\n",
      "年代: 唐 作者: 李白\n",
      "\n",
      "燕草如碧丝，秦桑低绿枝。\n",
      "\n",
      "当君怀归日，是妾断肠时。\n",
      "\n",
      "春风不相识，何事入罗帏。\n",
      "《春思》\n",
      "年代: 唐 作者: 李白\n",
      "燕草如碧丝，秦桑低绿枝。\n",
      "当君怀归日，是妾断肠时。\n",
      "春风不相识，何事入罗帏。\n",
      "《春思》\n",
      "\n",
      "年代: 唐 作者: 李白\n",
      "\n",
      "燕草如碧丝，秦桑低绿枝。\n",
      "\n",
      "当君怀归日，是妾断肠时。\n",
      "\n",
      "春风不相识，何事入罗帏。\n",
      "===\n",
      "《春思》\n",
      "\n",
      "请输入点什么：\n",
      "ewqeqw45434\n",
      "ss=ewqeqw45434\n",
      "Hello!\n",
      "Hi!\n",
      "Goodbye!\n",
      "b'\\xe4\\xb8\\xad\\xe6\\x96\\x87'\n",
      "D:\\MarkdowNotes\\Jupyter\\jupyter-test\\PythonModuleNotes\n"
     ]
    },
    {
     "data": {
      "text/plain": [
       "'d:\\\\ee1'"
      ]
     },
     "execution_count": 5,
     "metadata": {},
     "output_type": "execute_result"
    }
   ],
   "source": [
    "#基本的python io操作\n",
    "\n",
    "#python io包\n",
    "#文件操作\n",
    "#读取\n",
    "path='d:\\\\poem.txt'\n",
    "ff=open(path,'r')#打开文件\n",
    "for x in ff:#这样也是一种读文件的方式\n",
    "    print(x)\n",
    "ff.close()#需要手动关闭\n",
    "print('-----')\n",
    "\n",
    "with open(path,'r') as p:#使用with,无需自己关闭文件了\n",
    "    for x in p:\n",
    "        print(x)\n",
    "\n",
    "#read(size): 读取size的字节数。size为空时，读取文件所有字节。 \n",
    "#readline(size):若当前行的值大于size，则读当size值。若小于，则返回当前行。为空则返回整行。 \n",
    "#readlines(size):把读取到的值放在列表里存储并返回列表值。size并不是单纯的字节数，匹配到的是只要是大于某一行起始值的都会读出整行。 \n",
    "#迭代器：文件本身可以看做一个迭代器，循环操作。像for x in p: print(x)这样循环遍历就可以全部读出了。\n",
    "with open(path, 'r') as f1:\n",
    "    fr1=f1.read()#一次性完全读取到内存之中\n",
    "    print(fr1)\n",
    "    \n",
    "with open('d:\\\\poem.txt', 'r') as f1:\n",
    "    fr4=f1.readlines()#按照行读出来，保存到列表里面，如果设了值，则表示读多少行，如果没有值，则读取所有行\n",
    "    for line in fr4:\n",
    "        print(line)\n",
    "    print('===')\n",
    "        \n",
    "with open('d:\\\\poem.txt', 'r') as f1:\n",
    "    frt=f1.readline(116)#按列读，保存到列表里面，如果设了值，则表示读取本行的多大的数值，\n",
    "    print(frt)          #如果数值大于本行的大小，也只是返回本行，如果没值，则也返回本行\n",
    "\n",
    "#写入\n",
    "#write()，直接在后续写入\n",
    "#writeline()，完成一次写入后，换行\n",
    "with open('d:\\\\hello.txt','w') as ww:\n",
    "    ww.write('123')\n",
    "    \n",
    "with open('d:\\\\hello.txt','a') as ww:\n",
    "    ww.write('werwerwerew')\n",
    "    ww.writelines(\"你好，加油吧，少年！\")#虽然是str,但仍然包装成list,进行加入\n",
    "    prt=['123','mtk','何须风月凑哀愁']\n",
    "    ww.writelines(prt)#使用list列表方式写入，但不会自动加入分隔符号，如果要换行，需要自己加入'\\n'\n",
    "    nnn=['黄鹤楼送孟浩然\\n','烟花三月下扬州。\\n','孤帆远影碧空尽，\\n','唯见长江天际流。']\n",
    "    ww.writelines(nnn)\n",
    "    \n",
    "#键盘输入\n",
    "ss=input(\"请输入点什么：\\n\")\n",
    "print(\"ss=\"+ss)\n",
    "\n",
    "#StringIO和BytesIO\n",
    "#其中的方法和t默认模式差不多\n",
    "from io import StringIO#StringIO处理的是str\n",
    "f11 = StringIO('Hello!\\nHi!\\nGoodbye!')\n",
    "while True:\n",
    "    s = f11.readline()\n",
    "    if s == '':\n",
    "        break\n",
    "    print(s.strip())\n",
    "\n",
    "from io import BytesIO#BytesIO处理的是byte\n",
    "f22 = BytesIO()\n",
    "f22.write('中文'.encode('utf-8'))\n",
    "print(f22.getvalue())\n",
    "\n",
    "\n",
    "\n",
    "#操作文件和目录\n",
    "#python os包\n",
    "#os包主要作用是对于工作目录，路径，目录等的管理，配合shutil包可以完成绝大多数对于目录和文件的操作\n",
    "import os\n",
    "print(os.getcwd())#得到当前工作目录，即当前Python脚本工作的目录路径\n",
    "os.listdir()#返回指定目录下的所有文件和目录名\n",
    "os.path.isfile(path)#检验给出的路径是否是一个文件\n",
    "os.path.isdir(path)#检验给出的路径是否是一个目录\n",
    "os.path.isabs(path)#判断是否是绝对路径：\n",
    "os.path.exists(path)#检验给出的路径是否真地存\n",
    "os.path.split(path)#返回一个路径的目录名和文件名      \n",
    "os.path.splitext(path)#分离扩展名\n",
    "os.path.dirname(path)#获取路径名\n",
    "os.path.basename(path)#获取文件名\n",
    "os.stat(path)#获取文件属性\n",
    "os.linesep#给出当前平台使用的行终止符:    Windows使用'\\r\\n'，Linux使用'\\n'而Mac使用'\\r'  \n",
    "\n",
    "#创建目录 \n",
    "if not os.path.exists(\"file1\"):\n",
    "    os.mkdir(\"file1\") \n",
    "if not os.path.exists(\"d:\\\\file1\"):\n",
    "    os.mkdir(\"d:\\\\file1\")\n",
    "    os.mkdir(\"d:\\\\file1\\\\123\")\n",
    "\n",
    "#重命名文件/目录\n",
    "os.rename(\"d:\\\\hello.txt\",\"d:\\\\hello123.txt\")       \n",
    "#删除文件\n",
    "os.remove(\"d:\\\\hello2.txt\")\n",
    "\n",
    "#转换目录\n",
    "os.mkdir(\"d:\\\\1w1\") #创建一个目录\n",
    "os.chdir(\"d:\\\\1w1\") #将当前目录设为 \"C:\\123\", 相当于DOC命令的 CD C:\\123         \n",
    "os.getcwd()\n",
    "os.chdir('D:\\\\MarkdowNotes\\\\Jupyter\\\\jupyter-test\\\\PythonModuleNotes')\n",
    "\n",
    "\n",
    "#使用shutil,一个复制或者打包文件或者文件夹的工具集，主要是复制和打包的功能，os提供更多的路径操作\n",
    "#删除目录\n",
    "import shutil\n",
    "os.rmdir(\"file1\")    #只能删除空目录\n",
    "shutil.rmtree(\"d:\\\\file1\\\\123\")    #空目录、有内容的目录都可以删      \n",
    "\n",
    "#复制文件\n",
    "shutil.copyfile(\"hello.py\",\"hello_123.py\")    #oldfile和newfile都只能是文件\n",
    "#shutil.copy(\"d:\\\\eee\\\\123\",\"d:\\\\eee123\")        #oldfile只能是文件夹，newfile可以是文件，也可以是目标目录\n",
    "\n",
    "#复制文件夹\n",
    "shutil.copytree(\"d:\\\\file1\",\"d:\\\\g22\")      #olddir和newdir都只能是目录，且newdir必须不存在\n",
    "\n",
    "#移动文件/目录\n",
    "shutil.move(\"d:\\\\g22\",\"d:\\\\ee1\")    #将源文件（夹)之中的的文件（夹)移动到目的目录之中"
   ]
  },
  {
   "cell_type": "code",
   "execution_count": 1,
   "metadata": {
    "collapsed": false,
    "scrolled": true
   },
   "outputs": [
    {
     "name": "stdout",
     "output_type": "stream",
     "text": [
      "D:\\MarkdowNotes\\Jupyter\\jupyter-test\\PythonModuleNotes\n",
      "['.git', '.ipynb_checkpoints', 'First Jupyter.ipynb', 'hello.py', 'hello2.py', 'learn_python_module.ipynb', 'learn_pyth第三方司法所的on_module.ipynb', 'PyQt5Examples.ipynb', 'README.md', '__pycache__']\n",
      "[(1, 1, '张三', 62, '河北石家庄人'), (2, 2, '李四', 12, '吉林铁岭人'), (3, 3, 'Jhon Sm', 32, '美国纽约人'), (4, 4, 'Maimaiti', 28, '新疆喀什人'), (5, 5, 'Rain', 26, '韩国大邱人')]\n",
      "===========\n",
      "[(1, 1, '张三', 62, '河北石家庄人'), (2, 2, '萨克斯', 12, '吉林铁岭人'), (3, 3, 'Jhon Sm', 32, '美国纽约人'), (4, 4, 'Maimaiti', 27, '新疆喀什人'), (5, 5, 'Rain', 26, '韩国大邱人'), (6, 6, '鸠摩智', 52, '西藏拉萨人'), (7, 7, '郭靖', 42, '湖北襄阳人'), (9, 9, '杨过', 22, '陕西西安人'), (11, 11, '马超22', 24, '甘肃武威人'), (12, 12, '诸葛亮22', 23, '河南南阳人'), (13, 13, '周瑜22', 22, '浙江绍兴人')]\n",
      "===========\n",
      "[(1, 1, '张三', 62, '河北石家庄人'), (2, 2, '萨克斯', 12, '吉林铁岭人'), (3, 3, 'Jhon Sm', 32, '美国纽约人'), (4, 4, 'Maimaiti', 27, '新疆喀什人'), (5, 5, 'Rain', 26, '韩国大邱人')]\n"
     ]
    }
   ],
   "source": [
    "#sqlite3模块的学习和使用\n",
    "import os\n",
    "import sqlite3\n",
    "\n",
    "print(os.getcwd())\n",
    "print(os.listdir())\n",
    "\n",
    "\n",
    "if os.path.exists(\"my_sqlite_test.db\"):\n",
    "    os.remove(\"my_sqlite_test.db\")\n",
    "else:\n",
    "    #打开（不存在时候创建）数据库\n",
    "    sjk=sqlite3.connect(\"my_sqlite_test.db\")\n",
    "    #创建游标\n",
    "    cu=sjk.cursor()    \n",
    "    #使用游标对象，操作SQL语句查询数据库，获得查询对象\n",
    "    #基本上sqlite3之中一切都是由游标操作的\n",
    "\n",
    "    #游标对象有以下的操作：\n",
    "    #execute()--执行sql语句   \n",
    "    #executemany--执行多条sql语句   \n",
    "    #close()--关闭游标   \n",
    "    #fetchone()--从结果中取一条记录，并将游标指向下一条记录   \n",
    "    #fetchmany()--从结果中取多条记录   \n",
    "    #fetchall()--从结果中取出所有记录   \n",
    "    #scroll()--游标滚动 \n",
    "    #创建表\n",
    "    cu.execute(\"create table people_tb(id integer primary key,pid integer,\"+\n",
    "       \"name varchar(10) unique, age integer, info text NULL)\")\n",
    "    #插入数据\n",
    "    cu.execute(\"insert into people_tb(id,pid,name,age,info) values(1,1,'张三',62,'河北石家庄人')\")\n",
    "    cu.execute(\"insert into people_tb(id,pid,name,age,info) values(2,2,'李四',12,'吉林铁岭人')\")\n",
    "    cu.execute(\"insert into people_tb(id,pid,name,age,info) values(3,3,'Jhon Sm',32,'美国纽约人')\")\n",
    "    cu.execute(\"insert into people_tb(id,pid,name,age,info) values(4,4,'Maimaiti',28,'新疆喀什人')\")\n",
    "    cu.execute(\"insert into people_tb(id,pid,name,age,info) values(5,5,'Rain',26,'韩国大邱人')\")    \n",
    "    sjk.commit()#提交\n",
    "\n",
    "    ##查询\n",
    "    cu.execute(\"select * from people_tb\") #要提取查询到的数据,使用游标的fetch***函数,如:\n",
    "    print(cu.fetchall())\n",
    "    print(\"===========\")\n",
    "    #修改\n",
    "    cu.execute(\"update people_tb set name='萨克斯' where id= 2\")\n",
    "    cu.execute(\"update people_tb set age=27 where id= 4\")\n",
    "    sjk.commit()#提交\n",
    "\n",
    "    #插入,查询\n",
    "    cu.execute(\"insert into people_tb values(6,6,'鸠摩智',52,'西藏拉萨人')\")\n",
    "    cu.execute(\"insert into people_tb values(7,7,'郭靖',42,'湖北襄阳人')\")\n",
    "    sjk.commit()\n",
    "\n",
    "    #占位符的使用\n",
    "    sql1=\"insert into people_tb values(?,?,?,?,?)\"\n",
    "    #sql2='insert into people_tb (id,pid,name,age,info) values(%d, %d, %s, %d, %s)'\n",
    "    cu.execute(sql1,(9,9,'杨过',22,'陕西西安人'))\n",
    "    #cu.execute(sql2,(10,10,'杀马特',22,'四川成都人'))\n",
    "    #executemany的使用\n",
    "    li=[(11,11,'马超22',24,'甘肃武威人'),(12,12,'诸葛亮22',23,'河南南阳人'),(13,13,'周瑜22',22,'浙江绍兴人')]\n",
    "    cu.executemany(sql1,li)\n",
    "    sjk.commit()  \n",
    "    cu.execute(\"select * from people_tb\") #要提取查询到的数据,使用游标的fetch***函数,如:\n",
    "    print(cu.fetchall())\n",
    "    print(\"===========\")\n",
    "    de_sql=\"delete from people_tb where id=?\"\n",
    "    no=[(6,),(7,),(9,),(10,),(11,),(12,),(13,)]\n",
    "    cu.executemany(de_sql,no)\n",
    "    sjk.commit()\n",
    "\n",
    "    #删除\n",
    "    cu.execute(\"delete from people_tb where name='鸠摩智1'\")\n",
    "    cu.execute(\"select * from people_tb\") #要提取查询到的数据,使用游标的fetch***函数,如:\n",
    "    print(cu.fetchall())"
   ]
  },
  {
   "cell_type": "code",
   "execution_count": 15,
   "metadata": {
    "collapsed": false
   },
   "outputs": [
    {
     "name": "stdout",
     "output_type": "stream",
     "text": [
      "id name author price\n",
      "1 ??? ???? 36.2\n",
      "2 ??? ??? 66.6\n",
      "3 ??? ?? 98.9\n",
      "4 ???111 ???111 59.8\n",
      "5 ???www ???123 222.8\n",
      "6 ???? ??? 67.3\n",
      "7 ???? ??? 67.3\n",
      "8 ???? ?? 72.9\n",
      "9 ???? ?? 72.9\n",
      "10 ???? ?? 72.9\n",
      "11 aaa123 ??? 39.8\n",
      "13 ??? ??? 39.8\n",
      "14 ???123 ???123 39.8\n",
      "id name address\n"
     ]
    }
   ],
   "source": [
    "#anaconda安装包和pip类似，只是采用的是conda,如conda install pymysql\n",
    "#由于我使用的版本是py3.5，而官方提供的mysql驱动MysqlDB支持为3.4，所以使用pymysql,二者的操作基本上相同\n",
    "#导入 pymysql  \n",
    "import pymysql\n",
    "#打开数据库连接\n",
    "db=pymysql.connect(host=\"127.0.0.1\",user=\"root\",password=\"renjiaxin\",db=\"books\",port=3326)\n",
    "# 使用cursor()方法获取操作游标  \n",
    "cur = db.cursor()  \n",
    "#插入\n",
    "sql_insert1=\"\"\"insert into people(name,address) values('Leesi','上海奉贤')\"\"\"\n",
    "sql_insert2=\"\"\"insert into people(id,name,address) vaslues(%d,%s,%s)\"\"\"\n",
    "try:\n",
    "    cur.execute(sql_insert1)#执行\n",
    "    #cur.execute(sql_insert2,(2,'张三','北京东城'))#执行\n",
    "    db.commit()#提交\n",
    "except Exception as e:\n",
    "    db.rollback()#错误回滚\n",
    "#finally:\n",
    "    #db.close()\n",
    "    \n",
    "#查询\n",
    "sql_select=\"select * from mybook\"\n",
    "try:\n",
    "    cur.execute(sql_select)\n",
    "    results=cur.fetchall()#获得查询的所有记录\n",
    "    print(\"id\",\"name\",\"author\",\"price\")\n",
    "    #遍历结果\n",
    "    for row in results:\n",
    "        id=row[0]\n",
    "        name=row[1]\n",
    "        author=row[2]\n",
    "        price=row[3]\n",
    "        print(id,name,author,price)\n",
    "except Exception as e:\n",
    "    pass\n",
    "#finally:\n",
    "#    db.close()\n",
    "    \n",
    "#查询\n",
    "sql_select2=\"select * from people\"\n",
    "try:\n",
    "    cur.execute(sql_select2)\n",
    "    results=cur.fetchall()#获得查询的所有记录\n",
    "    print(\"id\",\"name\",\"address\")\n",
    "    #遍历结果\n",
    "    for row in results:\n",
    "        id=row[0]\n",
    "        name=row[1]\n",
    "        address=row[2]\n",
    "        print(id,name,address)\n",
    "except Exception as e:\n",
    "    pass\n",
    "finally:\n",
    "    db.close()\n",
    "        \n",
    "    "
   ]
  }
 ],
 "metadata": {
  "kernelspec": {
   "display_name": "Python [default]",
   "language": "python",
   "name": "python3"
  },
  "language_info": {
   "codemirror_mode": {
    "name": "ipython",
    "version": 3
   },
   "file_extension": ".py",
   "mimetype": "text/x-python",
   "name": "python",
   "nbconvert_exporter": "python",
   "pygments_lexer": "ipython3",
   "version": "3.5.2"
  },
  "widgets": {
   "application/vnd.jupyter.widget-state+json": {
    "state": {},
    "version_major": 1,
    "version_minor": 0
   }
  }
 },
 "nbformat": 4,
 "nbformat_minor": 2
}
