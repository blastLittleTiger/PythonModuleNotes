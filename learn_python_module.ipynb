{
 "cells": [
  {
   "cell_type": "code",
   "execution_count": 39,
   "metadata": {},
   "outputs": [
    {
     "name": "stdout",
     "output_type": "stream",
     "text": [
      "hello world\n"
     ]
    }
   ],
   "source": [
    "print(\"hello world\")"
   ]
  },
  {
   "cell_type": "code",
   "execution_count": 40,
   "metadata": {},
   "outputs": [
    {
     "name": "stdout",
     "output_type": "stream",
     "text": [
      "123\n"
     ]
    }
   ],
   "source": [
    "class abc():\n",
    "    def __init__(self,name):\n",
    "        self.name=name\n",
    "    def printname(self):\n",
    "        print(self.name)\n",
    "        \n",
    "if __name__==\"__main__\":\n",
    "    abc=abc(123)\n",
    "    abc.printname()"
   ]
  },
  {
   "cell_type": "code",
   "execution_count": 41,
   "metadata": {},
   "outputs": [
    {
     "name": "stdout",
     "output_type": "stream",
     "text": [
      "24大于10\n"
     ]
    }
   ],
   "source": [
    "def aaa(s):\n",
    "    if s>10:\n",
    "        print(str(s)+\"大于10\")\n",
    "    else:\n",
    "        print(str(s)+\"小于10\")\n",
    "        \n",
    "aaa(24)\n",
    "    "
   ]
  },
  {
   "cell_type": "code",
   "execution_count": 47,
   "metadata": {},
   "outputs": [
    {
     "name": "stdout",
     "output_type": "stream",
     "text": [
      "1509538753.3486495\n",
      "<module 'ntpath' from 'D:\\\\software\\\\Anaconda3\\\\lib\\\\ntpath.py'>\n",
      "1992-01-17\n",
      "1\n",
      "9999\n"
     ]
    }
   ],
   "source": [
    "import os\n",
    "print(time.time())\n",
    "print(os.path)\n",
    "import datetime\n",
    "print(datetime.date(1992,1,17))\n",
    "#直接使用模块名，来调用相应的函数即可\n",
    "#os.startfile('C:\\Users\\renjiaxin\\Desktop\\123213.txt')\n",
    "p=datetime.date(1992,1,12)\n",
    "#如果模块的内部有类的话，使用模块名.类名.方法名()这种模式来调用\n",
    "print(p.month)\n",
    "#在帮助文档之中，用绿色标出来的Date字段，就是可以使用模块名直接访问的字段\n",
    "ss=datetime.MAXYEAR\n",
    "print(ss)"
   ]
  },
  {
   "cell_type": "code",
   "execution_count": 43,
   "metadata": {},
   "outputs": [
    {
     "name": "stdout",
     "output_type": "stream",
     "text": [
      "[1, 2, 3]\n",
      "[2, 3]\n",
      "[9, 0, 1, 2, 3]\n"
     ]
    }
   ],
   "source": [
    "nest=[[1,2,3],[2,3],[9,0,1,2,3]]\n",
    "for num in nest:\n",
    "    print(num)"
   ]
  },
  {
   "cell_type": "code",
   "execution_count": 44,
   "metadata": {},
   "outputs": [
    {
     "name": "stdout",
     "output_type": "stream",
     "text": [
      "2.718281828459045\n",
      "1.2246467991473532e-16\n"
     ]
    }
   ],
   "source": [
    "import math\n",
    "print(math.e)\n",
    "print(math.sin(math.pi))\n",
    "#一个模块之内，可以有多个类，或者函数，或者是模块里面的字段，\n",
    "#(接上)可以直接用模块名，去调用函数"
   ]
  },
  {
   "cell_type": "code",
   "execution_count": 54,
   "metadata": {},
   "outputs": [
    {
     "name": "stdout",
     "output_type": "stream",
     "text": [
      "<module 'ntpath' from 'D:\\\\software\\\\Anaconda3\\\\lib\\\\ntpath.py'>\n",
      "3.6275792552847266\n",
      "no info!\n",
      "1992-02-02 Sun Feb  2 00:00:00 1992\n"
     ]
    }
   ],
   "source": [
    "import os\n",
    "print(os.path)\n",
    "import math\n",
    "s=math.sin(2)#使用模块名直接调用模块之中的方法\n",
    "f=s+math.e#模块可以直接调用模块之中的字段，在文档之中用绿色标识在最后标注出来\n",
    "print(f)\n",
    "import datetime\n",
    "tt=datetime.date(1992,2,2)\n",
    "ss=tt.ctime()\n",
    "if(ss==tt):\n",
    "    print(ss+str(\"!=\")+tt)\n",
    "else:\n",
    "    print(\"no info!\")\n",
    "print(tt,ss)"
   ]
  },
  {
   "cell_type": "code",
   "execution_count": 3,
   "metadata": {},
   "outputs": [
    {
     "name": "stdout",
     "output_type": "stream",
     "text": [
      "Thu Jan  1 08:03:42 1970\n",
      "time.struct_time(tm_year=2017, tm_mon=11, tm_mday=2, tm_hour=16, tm_min=30, tm_sec=27, tm_wday=3, tm_yday=306, tm_isdst=0)\n",
      "1509640227.2013657\n",
      "1.859375\n",
      "455010.14\n",
      "4.10529085780463e-07\n",
      "1.859375\n",
      "None\n"
     ]
    }
   ],
   "source": [
    "import time\n",
    "\n",
    "print(time.ctime(222))\n",
    "\n",
    "print(time.gmtime())\n",
    "\n",
    "print(time.time())\n",
    "\n",
    "print(time.process_time())\n",
    "\n",
    "print(time.monotonic())\n",
    "\n",
    "print(time.clock())\n",
    "\n",
    "print(time.process_time())\n",
    "\n",
    "print(time.sleep(12))"
   ]
  },
  {
   "cell_type": "code",
   "execution_count": 23,
   "metadata": {},
   "outputs": [
    {
     "name": "stdout",
     "output_type": "stream",
     "text": [
      "2.718281828459045\n",
      "0.7625584504796027\n",
      "2017-11-03 00:48:22.879584\n",
      "4\n",
      "12S2Lllll2Uiouoi22\n",
      "年：1992 日：5\n"
     ]
    }
   ],
   "source": [
    "import math\n",
    "print(math.e)#使用模块名，调用模块之中的字段\n",
    "print(math.sin(26))#使用模块名，调用模块之中的函数\n",
    "\n",
    "import datetime\n",
    "print(datetime.datetime.today())#使用模块名，调用模块中类的方法\n",
    "obj=datetime.datetime(2017,11,3)#使用模块中的类，来构造一个对象\n",
    "print(obj.weekday())\n",
    "\n",
    "import string\n",
    "print(string.capwords('12s2lllll2uiouoi22', sep='2'))\n",
    "\n",
    "from time import struct_time\n",
    "st=struct_time((1992,2,5,2,3,4,1,2,8))#使用模块之中的类,调用模块之中的方法\n",
    "print(\"年：\"+str(st.tm_year),\"日：\"+str(st.tm_mday))"
   ]
  },
  {
   "cell_type": "code",
   "execution_count": 32,
   "metadata": {},
   "outputs": [
    {
     "name": "stdout",
     "output_type": "stream",
     "text": [
      "Hello World!\n",
      "12\n",
      "12\n",
      "00000000hello world!\n",
      "False\n",
      "HELLO WORLD!\n",
      "1\n"
     ]
    }
   ],
   "source": [
    "ss=\"hello world!\"\n",
    "print(str.title(ss))\n",
    "print(str.__len__(ss))#\n",
    "print(ss.__len__())# 这两个的作用一样，因为是内置的\n",
    "print(ss.zfill(20))\n",
    "print(ss.startswith(\"H\"))\n",
    "print(ss.upper())\n",
    "print(ss.find('e'))\n",
    "#help(str)"
   ]
  },
  {
   "cell_type": "code",
   "execution_count": 34,
   "metadata": {},
   "outputs": [
    {
     "name": "stdout",
     "output_type": "stream",
     "text": [
      "<generator object Calendar.iterweekdays at 0x0000000004FAE4C0>\n",
      "True\n",
      "1992-02-11 2017-11-13\n",
      "1992-02-11 2017 Mon Nov 13 00:00:00 2017\n",
      "Mon Nov 13 14:52:05 2017 \n",
      " Thu Jan 15 13:58:31 1970 \n",
      " time.struct_time(tm_year=2017, tm_mon=11, tm_mday=13, tm_hour=6, tm_min=52, tm_sec=5, tm_wday=0, tm_yday=317, tm_isdst=0) \n",
      " time.struct_time(tm_year=1970, tm_mon=1, tm_mday=26, tm_hour=17, tm_min=17, tm_sec=2, tm_wday=0, tm_yday=26, tm_isdst=0) \n",
      " 13\n"
     ]
    }
   ],
   "source": [
    "import calendar\n",
    "cal=calendar.Calendar.iterweekdays(1)\n",
    "print(str(cal))\n",
    "ss1=calendar.isleap(1992)\n",
    "print(ss1)\n",
    "\n",
    "import datetime\n",
    "from datetime import timedelta\n",
    "\n",
    "d1=timedelta(days=2)\n",
    "d1.days\n",
    "\n",
    "d2=datetime.date(1992,2,11)#构造一个自定义时间的日期\n",
    "d3=datetime.date.today()#获取今天的日期\n",
    "\n",
    "print(d2,d3)\n",
    "month1=d2.month#获取月份\n",
    "year1=d3.year\n",
    "print(d2,year1,d3.ctime())\n",
    "now1=datetime.datetime.utcnow()\n",
    "#print(now1)\n",
    "\n",
    "\n",
    "\n",
    "import time\n",
    "st1=time.ctime() #获得当前时间\n",
    "st2=time.ctime(1231111)\n",
    "st3=time.gmtime()\n",
    "st4=time.gmtime(2222222)\n",
    "#st5=time.struct_time(tm_year=2017, tm_mon=11, tm_mday=3, tm_hour=16, tm_min=30, tm_sec=31, tm_wday=4, tm_yday=307, tm_isdst=0) \n",
    "mon1=st3.tm_mday#获取日期\n",
    "print(str(st1),\"\\n\",str(st2),\"\\n\",str(st3),\"\\n\",str(st4),\"\\n\",str(mon1))\n",
    "\n",
    "\n",
    "\n",
    "#时间如何转化"
   ]
  },
  {
   "cell_type": "code",
   "execution_count": 35,
   "metadata": {},
   "outputs": [
    {
     "name": "stdout",
     "output_type": "stream",
     "text": [
      "18.76721564941719 , 0.7904923324496766 , 5\n",
      "ttt\n",
      "3\n"
     ]
    }
   ],
   "source": [
    "import random\n",
    "s1=random.uniform(10, 20)\n",
    "s2=random.random()#使用模块之中的方法\n",
    "s3=random.randint(3,6)\n",
    "print(s1, \",\",s2,\",\", s3)\n",
    "m=[1,2,3,4,5,6,\"rrr\",'ttt']\n",
    "s4=random.choice(m)#从一个选定的序列中random\n",
    "print(s4)\n",
    "r1=random.Random()#创建对象，来使用类之中的方法\n",
    "s6=r1.randint(3,9)\n",
    "print(s6)"
   ]
  },
  {
   "cell_type": "code",
   "execution_count": 31,
   "metadata": {},
   "outputs": [
    {
     "name": "stdout",
     "output_type": "stream",
     "text": [
      "None\n",
      "os.stat_result(st_mode=16895, st_ino=281474977044859, st_dev=18467, st_nlink=1, st_uid=0, st_gid=0, st_size=0, st_atime=1508820188, st_mtime=1508820188, st_ctime=1508820181)\n",
      "COPYRIGHT\n",
      "javafx-src.zip\n",
      "LICENSE\n",
      "README.html\n",
      "release\n",
      "src.zip\n",
      "THIRDPARTYLICENSEREADME-JAVAFX.txt\n",
      "THIRDPARTYLICENSEREADME.txt\n",
      "<module 'ntpath' from 'D:\\\\software\\\\Anaconda3\\\\lib\\\\ntpath.py'>\n",
      "nt\n",
      "D:\\maven\\localRepository\\classworlds\\classworlds\n",
      "1200 5036\n",
      "['bin', 'COPYRIGHT', 'db', 'include', 'javafx-src.zip', 'jre', 'lib', 'LICENSE', 'README.html', 'release', 'src.zip', 'THIRDPARTYLICENSEREADME-JAVAFX.txt', 'THIRDPARTYLICENSEREADME.txt']\n",
      "----------------\n",
      "jdk1.8.0_131\n",
      "1504663394.363026\n",
      "1504663207.644647\n",
      "False\n",
      "D:\\software\\Java\\jdk1.8.0_131\\123\n",
      "31072\n",
      "False\n"
     ]
    }
   ],
   "source": [
    "#os模块大多处理关于文件夹，文件的创建，文件列表，当前线程，工作目录，执行系统命令和外部命令等工作\n",
    "import os\n",
    "print(os.chdir('D://maven//localRepository//classworlds//classworlds'))\n",
    "print(os.stat('D://maven//localRepository//classworlds//classworlds'))\n",
    "os.getenv('JAVA_HOME')\n",
    "#列出文件夹之中的文件\n",
    "for entry in os.scandir('D:\\\\software\\\\Java\\\\jdk1.8.0_131'):\n",
    "    if not entry.name.startswith('.') and entry.is_file():\n",
    "        print(entry.name)\n",
    "        \n",
    "print(os.path)\n",
    "print(os.name)#返回操作系统名称\n",
    "print(os.getcwd())#返回当前的工作目录\n",
    "os.system('cmd')#调用系统命令\n",
    "os.startfile('D:\\\\software\\\\Dict\\\\Application\\\\YoudaoDict.exe')#执行某一程序\n",
    "os.mkdir(\"d:\\\\123\")#创建目录，也有创建多层次目录的命令os.mkdirs(path)\n",
    "os.rename(\"d:\\\\123\", \"d:\\\\234\") #更改目录名\n",
    "#os.remove(\"d:\\\\234\")#下面两条是删除一个目录，remove在windows下面会抛出IO异常\n",
    "os.rmdir(\"d:\\\\234\")\n",
    "print(os.getpid(),os.getppid())#返回当前的\n",
    "print(os.listdir(os.getenv('JAVA_HOME')))#列出目录\n",
    "s=open('d:\\\\123.txt','a')#这是在内置函数之中的方法，用来操作文件，最后关闭的时候写入\n",
    "s.write('hello world!')\n",
    "s.close()\n",
    "print('----------------')\n",
    "\n",
    "\n",
    "\n",
    "#os.path多处理的是文件夹，文件，路径的问题\n",
    "import os.path\n",
    "print(os.path.basename('D:\\\\software\\\\Java\\\\jdk1.8.0_131'))#名字\n",
    "print(os.path.getatime('D:\\\\software\\\\Java\\\\jdk1.8.0_131'))#该路径创建时间\n",
    "print(os.path.getctime('D:\\\\software\\\\Java\\\\jdk1.8.0_131'))\n",
    "print(os.path.islink('D:\\\\software\\\\Java\\\\jdk1.8.0_131'))#该路径是否为快捷方式\n",
    "print(os.path.realpath('D:\\\\software\\\\Java\\\\jdk1.8.0_131\\\\123'))#返回真实的路径，消除其他的分隔符\n",
    "print(os.path.getsize(('E:\\\\virtualmachine\\\\pass.png')))#返回大小\n",
    "print(os.path.isfile('D:\\\\software\\\\Java\\\\jdk1.8.0_131\\\\123'))#返回是否为文件,还有isdir()函数"
   ]
  },
  {
   "cell_type": "code",
   "execution_count": null,
   "metadata": {
    "collapsed": true
   },
   "outputs": [],
   "source": []
  }
 ],
 "metadata": {
  "kernelspec": {
   "display_name": "Python 3",
   "language": "python",
   "name": "python3"
  },
  "language_info": {
   "codemirror_mode": {
    "name": "ipython",
    "version": 3
   },
   "file_extension": ".py",
   "mimetype": "text/x-python",
   "name": "python",
   "nbconvert_exporter": "python",
   "pygments_lexer": "ipython3",
   "version": "3.6.1"
  },
  "widgets": {
   "application/vnd.jupyter.widget-state+json": {
    "state": {},
    "version_major": 1,
    "version_minor": 0
   }
  }
 },
 "nbformat": 4,
 "nbformat_minor": 2
}
