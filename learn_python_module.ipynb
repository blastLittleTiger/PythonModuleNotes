{
 "cells": [
  {
   "cell_type": "code",
   "execution_count": 39,
   "metadata": {
    "collapsed": false
   },
   "outputs": [
    {
     "name": "stdout",
     "output_type": "stream",
     "text": [
      "hello world\n"
     ]
    }
   ],
   "source": [
    "print(\"hello world\")"
   ]
  },
  {
   "cell_type": "code",
   "execution_count": 40,
   "metadata": {
    "collapsed": false
   },
   "outputs": [
    {
     "name": "stdout",
     "output_type": "stream",
     "text": [
      "123\n"
     ]
    }
   ],
   "source": [
    "class abc():\n",
    "    def __init__(self,name):\n",
    "        self.name=name\n",
    "    def printname(self):\n",
    "        print(self.name)\n",
    "        \n",
    "if __name__==\"__main__\":\n",
    "    abc=abc(123)\n",
    "    abc.printname()"
   ]
  },
  {
   "cell_type": "code",
   "execution_count": 41,
   "metadata": {
    "collapsed": false
   },
   "outputs": [
    {
     "name": "stdout",
     "output_type": "stream",
     "text": [
      "24大于10\n"
     ]
    }
   ],
   "source": [
    "def aaa(s):\n",
    "    if s>10:\n",
    "        print(str(s)+\"大于10\")\n",
    "    else:\n",
    "        print(str(s)+\"小于10\")\n",
    "        \n",
    "aaa(24)\n",
    "    "
   ]
  },
  {
   "cell_type": "code",
   "execution_count": 47,
   "metadata": {
    "collapsed": false
   },
   "outputs": [
    {
     "name": "stdout",
     "output_type": "stream",
     "text": [
      "1509538753.3486495\n",
      "<module 'ntpath' from 'D:\\\\software\\\\Anaconda3\\\\lib\\\\ntpath.py'>\n",
      "1992-01-17\n",
      "1\n",
      "9999\n"
     ]
    }
   ],
   "source": [
    "import os\n",
    "print(time.time())\n",
    "print(os.path)\n",
    "import datetime\n",
    "print(datetime.date(1992,1,17))\n",
    "#直接使用模块名，来调用相应的函数即可\n",
    "#os.startfile('C:\\Users\\renjiaxin\\Desktop\\123213.txt')\n",
    "p=datetime.date(1992,1,12)\n",
    "#如果模块的内部有类的话，使用模块名.类名.方法名()这种模式来调用\n",
    "print(p.month)\n",
    "#在帮助文档之中，用绿色标出来的Date字段，就是可以使用模块名直接访问的字段\n",
    "ss=datetime.MAXYEAR\n",
    "print(ss)"
   ]
  },
  {
   "cell_type": "code",
   "execution_count": 43,
   "metadata": {
    "collapsed": false
   },
   "outputs": [
    {
     "name": "stdout",
     "output_type": "stream",
     "text": [
      "[1, 2, 3]\n",
      "[2, 3]\n",
      "[9, 0, 1, 2, 3]\n"
     ]
    }
   ],
   "source": [
    "nest=[[1,2,3],[2,3],[9,0,1,2,3]]\n",
    "for num in nest:\n",
    "    print(num)"
   ]
  },
  {
   "cell_type": "code",
   "execution_count": 44,
   "metadata": {
    "collapsed": false
   },
   "outputs": [
    {
     "name": "stdout",
     "output_type": "stream",
     "text": [
      "2.718281828459045\n",
      "1.2246467991473532e-16\n"
     ]
    }
   ],
   "source": [
    "import math\n",
    "print(math.e)\n",
    "print(math.sin(math.pi))\n",
    "#一个模块之内，可以有多个类，或者函数，或者是模块里面的字段，\n",
    "#(接上)可以直接用模块名，去调用函数"
   ]
  },
  {
   "cell_type": "code",
   "execution_count": 54,
   "metadata": {
    "collapsed": false
   },
   "outputs": [
    {
     "name": "stdout",
     "output_type": "stream",
     "text": [
      "<module 'ntpath' from 'D:\\\\software\\\\Anaconda3\\\\lib\\\\ntpath.py'>\n",
      "3.6275792552847266\n",
      "no info!\n",
      "1992-02-02 Sun Feb  2 00:00:00 1992\n"
     ]
    }
   ],
   "source": [
    "import os\n",
    "print(os.path)\n",
    "import math\n",
    "s=math.sin(2)#使用模块名直接调用模块之中的方法\n",
    "f=s+math.e#模块可以直接调用模块之中的字段，在文档之中用绿色标识在最后标注出来\n",
    "print(f)\n",
    "import datetime\n",
    "tt=datetime.date(1992,2,2)\n",
    "ss=tt.ctime()\n",
    "if(ss==tt):\n",
    "    print(ss+str(\"!=\")+tt)\n",
    "else:\n",
    "    print(\"no info!\")\n",
    "print(tt,ss)"
   ]
  },
  {
   "cell_type": "code",
   "execution_count": 3,
   "metadata": {
    "collapsed": false
   },
   "outputs": [
    {
     "name": "stdout",
     "output_type": "stream",
     "text": [
      "Thu Jan  1 08:03:42 1970\n",
      "time.struct_time(tm_year=2017, tm_mon=11, tm_mday=2, tm_hour=16, tm_min=30, tm_sec=27, tm_wday=3, tm_yday=306, tm_isdst=0)\n",
      "1509640227.2013657\n",
      "1.859375\n",
      "455010.14\n",
      "4.10529085780463e-07\n",
      "1.859375\n",
      "None\n"
     ]
    }
   ],
   "source": [
    "import time\n",
    "\n",
    "print(time.ctime(222))\n",
    "\n",
    "print(time.gmtime())\n",
    "\n",
    "print(time.time())\n",
    "\n",
    "print(time.process_time())\n",
    "\n",
    "print(time.monotonic())\n",
    "\n",
    "print(time.clock())\n",
    "\n",
    "print(time.process_time())\n",
    "\n",
    "print(time.sleep(12))"
   ]
  },
  {
   "cell_type": "code",
   "execution_count": 23,
   "metadata": {
    "collapsed": false
   },
   "outputs": [
    {
     "name": "stdout",
     "output_type": "stream",
     "text": [
      "2.718281828459045\n",
      "0.7625584504796027\n",
      "2017-11-03 00:48:22.879584\n",
      "4\n",
      "12S2Lllll2Uiouoi22\n",
      "年：1992 日：5\n"
     ]
    }
   ],
   "source": [
    "import math\n",
    "print(math.e)#使用模块名，调用模块之中的字段\n",
    "print(math.sin(26))#使用模块名，调用模块之中的函数\n",
    "\n",
    "import datetime\n",
    "print(datetime.datetime.today())#使用模块名，调用模块中类的方法\n",
    "obj=datetime.datetime(2017,11,3)#使用模块中的类，来构造一个对象\n",
    "print(obj.weekday())\n",
    "\n",
    "import string\n",
    "print(string.capwords('12s2lllll2uiouoi22', sep='2'))\n",
    "\n",
    "from time import struct_time\n",
    "st=struct_time((1992,2,5,2,3,4,1,2,8))#使用模块之中的类,调用模块之中的方法\n",
    "print(\"年：\"+str(st.tm_year),\"日：\"+str(st.tm_mday))"
   ]
  },
  {
   "cell_type": "code",
   "execution_count": 17,
   "metadata": {
    "collapsed": false
   },
   "outputs": [
    {
     "name": "stdout",
     "output_type": "stream",
     "text": [
      "Hello World!\n",
      "12\n",
      "12\n",
      "00000000hello world!\n",
      "False\n",
      "HELLO WORLD!\n",
      "1\n"
     ]
    }
   ],
   "source": [
    "ss=\"hello world!\"\n",
    "print(str.title(ss))\n",
    "print(str.__len__(ss))#\n",
    "print(ss.__len__())# 这两个的作用一样，因为是内置的\n",
    "print(ss.zfill(20))\n",
    "print(ss.startswith(\"H\"))\n",
    "print(ss.upper())\n",
    "print(ss.find('e'))\n",
    "#help(str)"
   ]
  },
  {
   "cell_type": "code",
   "execution_count": 87,
   "metadata": {
    "collapsed": false,
    "scrolled": true
   },
   "outputs": [
    {
     "name": "stdout",
     "output_type": "stream",
     "text": [
      "<generator object Calendar.iterweekdays at 0x0000022A619402B0>\n",
      "True\n",
      "1992-02-11 2017-11-04\n",
      "2 2017 Sat Nov  4 00:00:00 2017\n",
      "Sat Nov  4 00:46:03 2017 \n",
      " Thu Jan 15 13:58:31 1970 \n",
      " time.struct_time(tm_year=2017, tm_mon=11, tm_mday=3, tm_hour=16, tm_min=46, tm_sec=3, tm_wday=4, tm_yday=307, tm_isdst=0) \n",
      " time.struct_time(tm_year=1970, tm_mon=1, tm_mday=26, tm_hour=17, tm_min=17, tm_sec=2, tm_wday=0, tm_yday=26, tm_isdst=0) \n",
      " 3\n"
     ]
    }
   ],
   "source": [
    "import calendar\n",
    "cal=calendar.Calendar.iterweekdays(1)\n",
    "print(str(cal))\n",
    "ss1=calendar.isleap(1992)\n",
    "print(ss1)\n",
    "\n",
    "import datetime\n",
    "from datetime import timedelta\n",
    "\n",
    "d1=timedelta(days=2)\n",
    "d1.days\n",
    "\n",
    "d2=datetime.date(1992,2,11)#构造一个自定义时间的日期\n",
    "d3=datetime.date.today()#获取今天的日期\n",
    "\n",
    "print(d2,d3)\n",
    "month1=d2.month#获取月份\n",
    "year1=d3.year\n",
    "print(data1,year1,d3.ctime())\n",
    "now1=datetime.datetime.utcnow()\n",
    "#print(now1)\n",
    "\n",
    "\n",
    "\n",
    "import time\n",
    "st1=time.ctime() #获得当前时间\n",
    "st2=time.ctime(1231111)\n",
    "st3=time.gmtime()\n",
    "st4=time.gmtime(2222222)\n",
    "#st5=time.struct_time(tm_year=2017, tm_mon=11, tm_mday=3, tm_hour=16, tm_min=30, tm_sec=31, tm_wday=4, tm_yday=307, tm_isdst=0) \n",
    "mon1=st3.tm_mday#获取日期\n",
    "print(str(st1),\"\\n\",str(st2),\"\\n\",str(st3),\"\\n\",str(st4),\"\\n\",str(mon1))\n",
    "\n",
    "\n",
    "\n",
    "#时间如何转化"
   ]
  },
  {
   "cell_type": "code",
   "execution_count": 94,
   "metadata": {
    "collapsed": false
   },
   "outputs": [
    {
     "name": "stdout",
     "output_type": "stream",
     "text": [
      "11.25248015961686 , 0.3160313022913601 , 3\n",
      "6\n",
      "8\n"
     ]
    }
   ],
   "source": [
    "import random\n",
    "s1=random.uniform(10, 20)\n",
    "s2=random.random()#使用模块之中的方法\n",
    "s3=random.randint(3,6)\n",
    "print(s1, \",\",s2,\",\", s3)\n",
    "m=[1,2,3,4,5,6,\"rrr\",'ttt']\n",
    "s4=random.choice(m)#从一个选定的序列中random\n",
    "print(s4)\n",
    "r1=random.Random()#创建对象，来使用类之中的方法\n",
    "s6=r1.randint(3,9)\n",
    "print(s6)"
   ]
  }
 ],
 "metadata": {
  "kernelspec": {
   "display_name": "Python [default]",
   "language": "python",
   "name": "python3"
  },
  "language_info": {
   "codemirror_mode": {
    "name": "ipython",
    "version": 3
   },
   "file_extension": ".py",
   "mimetype": "text/x-python",
   "name": "python",
   "nbconvert_exporter": "python",
   "pygments_lexer": "ipython3",
   "version": "3.5.2"
  },
  "widgets": {
   "application/vnd.jupyter.widget-state+json": {
    "state": {},
    "version_major": 1,
    "version_minor": 0
   }
  }
 },
 "nbformat": 4,
 "nbformat_minor": 2
}
