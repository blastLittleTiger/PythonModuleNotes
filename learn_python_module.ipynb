{
 "cells": [
  {
   "cell_type": "code",
   "execution_count": 39,
   "metadata": {
    "collapsed": false
   },
   "outputs": [
    {
     "name": "stdout",
     "output_type": "stream",
     "text": [
      "hello world\n"
     ]
    }
   ],
   "source": [
    "print(\"hello world\")"
   ]
  },
  {
   "cell_type": "code",
   "execution_count": 40,
   "metadata": {
    "collapsed": false
   },
   "outputs": [
    {
     "name": "stdout",
     "output_type": "stream",
     "text": [
      "123\n"
     ]
    }
   ],
   "source": [
    "class abc():\n",
    "    def __init__(self,name):\n",
    "        self.name=name\n",
    "    def printname(self):\n",
    "        print(self.name)\n",
    "        \n",
    "if __name__==\"__main__\":\n",
    "    abc=abc(123)\n",
    "    abc.printname()"
   ]
  },
  {
   "cell_type": "code",
   "execution_count": 41,
   "metadata": {
    "collapsed": false
   },
   "outputs": [
    {
     "name": "stdout",
     "output_type": "stream",
     "text": [
      "24大于10\n"
     ]
    }
   ],
   "source": [
    "def aaa(s):\n",
    "    if s>10:\n",
    "        print(str(s)+\"大于10\")\n",
    "    else:\n",
    "        print(str(s)+\"小于10\")\n",
    "        \n",
    "aaa(24)\n",
    "    "
   ]
  },
  {
   "cell_type": "code",
   "execution_count": 47,
   "metadata": {
    "collapsed": false
   },
   "outputs": [
    {
     "name": "stdout",
     "output_type": "stream",
     "text": [
      "1509538753.3486495\n",
      "<module 'ntpath' from 'D:\\\\software\\\\Anaconda3\\\\lib\\\\ntpath.py'>\n",
      "1992-01-17\n",
      "1\n",
      "9999\n"
     ]
    }
   ],
   "source": [
    "import os\n",
    "print(time.time())\n",
    "print(os.path)\n",
    "import datetime\n",
    "print(datetime.date(1992,1,17))\n",
    "#直接使用模块名，来调用相应的函数即可\n",
    "#os.startfile('C:\\Users\\renjiaxin\\Desktop\\123213.txt')\n",
    "p=datetime.date(1992,1,12)\n",
    "#如果模块的内部有类的话，使用模块名.类名.方法名()这种模式来调用\n",
    "print(p.month)\n",
    "#在帮助文档之中，用绿色标出来的Date字段，就是可以使用模块名直接访问的字段\n",
    "ss=datetime.MAXYEAR\n",
    "print(ss)"
   ]
  },
  {
   "cell_type": "code",
   "execution_count": 43,
   "metadata": {
    "collapsed": false
   },
   "outputs": [
    {
     "name": "stdout",
     "output_type": "stream",
     "text": [
      "[1, 2, 3]\n",
      "[2, 3]\n",
      "[9, 0, 1, 2, 3]\n"
     ]
    }
   ],
   "source": [
    "nest=[[1,2,3],[2,3],[9,0,1,2,3]]\n",
    "for num in nest:\n",
    "    print(num)"
   ]
  },
  {
   "cell_type": "code",
   "execution_count": 44,
   "metadata": {
    "collapsed": false
   },
   "outputs": [
    {
     "name": "stdout",
     "output_type": "stream",
     "text": [
      "2.718281828459045\n",
      "1.2246467991473532e-16\n"
     ]
    }
   ],
   "source": [
    "import math\n",
    "print(math.e)\n",
    "print(math.sin(math.pi))\n",
    "#一个模块之内，可以有多个类，或者函数，或者是模块里面的字段，\n",
    "#(接上)可以直接用模块名，去调用函数"
   ]
  },
  {
   "cell_type": "code",
   "execution_count": 54,
   "metadata": {
    "collapsed": false
   },
   "outputs": [
    {
     "name": "stdout",
     "output_type": "stream",
     "text": [
      "<module 'ntpath' from 'D:\\\\software\\\\Anaconda3\\\\lib\\\\ntpath.py'>\n",
      "3.6275792552847266\n",
      "no info!\n",
      "1992-02-02 Sun Feb  2 00:00:00 1992\n"
     ]
    }
   ],
   "source": [
    "import os\n",
    "print(os.path)\n",
    "import math\n",
    "s=math.sin(2)#使用模块名直接调用模块之中的方法\n",
    "f=s+math.e#模块可以直接调用模块之中的字段，在文档之中用绿色标识在最后标注出来\n",
    "print(f)\n",
    "import datetime\n",
    "tt=datetime.date(1992,2,2)\n",
    "ss=tt.ctime()\n",
    "if(ss==tt):\n",
    "    print(ss+str(\"!=\")+tt)\n",
    "else:\n",
    "    print(\"no info!\")\n",
    "print(tt,ss)"
   ]
  },
  {
   "cell_type": "code",
   "execution_count": 3,
   "metadata": {
    "collapsed": false
   },
   "outputs": [
    {
     "name": "stdout",
     "output_type": "stream",
     "text": [
      "Thu Jan  1 08:03:42 1970\n",
      "time.struct_time(tm_year=2017, tm_mon=11, tm_mday=2, tm_hour=16, tm_min=30, tm_sec=27, tm_wday=3, tm_yday=306, tm_isdst=0)\n",
      "1509640227.2013657\n",
      "1.859375\n",
      "455010.14\n",
      "4.10529085780463e-07\n",
      "1.859375\n",
      "None\n"
     ]
    }
   ],
   "source": [
    "import time\n",
    "\n",
    "print(time.ctime(222))\n",
    "\n",
    "print(time.gmtime())\n",
    "\n",
    "print(time.time())\n",
    "\n",
    "print(time.process_time())\n",
    "\n",
    "print(time.monotonic())\n",
    "\n",
    "print(time.clock())\n",
    "\n",
    "print(time.process_time())\n",
    "\n",
    "print(time.sleep(12))"
   ]
  },
  {
   "cell_type": "code",
   "execution_count": 23,
   "metadata": {
    "collapsed": false
   },
   "outputs": [
    {
     "name": "stdout",
     "output_type": "stream",
     "text": [
      "2.718281828459045\n",
      "0.7625584504796027\n",
      "2017-11-03 00:48:22.879584\n",
      "4\n",
      "12S2Lllll2Uiouoi22\n",
      "年：1992 日：5\n"
     ]
    }
   ],
   "source": [
    "import math\n",
    "print(math.e)#使用模块名，调用模块之中的字段\n",
    "print(math.sin(26))#使用模块名，调用模块之中的函数\n",
    "\n",
    "import datetime\n",
    "print(datetime.datetime.today())#使用模块名，调用模块中类的方法\n",
    "obj=datetime.datetime(2017,11,3)#使用模块中的类，来构造一个对象\n",
    "print(obj.weekday())\n",
    "\n",
    "import string\n",
    "print(string.capwords('12s2lllll2uiouoi22', sep='2'))\n",
    "\n",
    "from time import struct_time\n",
    "st=struct_time((1992,2,5,2,3,4,1,2,8))#使用模块之中的类,调用模块之中的方法\n",
    "print(\"年：\"+str(st.tm_year),\"日：\"+str(st.tm_mday))"
   ]
  },
  {
   "cell_type": "code",
   "execution_count": 32,
   "metadata": {
    "collapsed": false
   },
   "outputs": [
    {
     "name": "stdout",
     "output_type": "stream",
     "text": [
      "Hello World!\n",
      "12\n",
      "12\n",
      "00000000hello world!\n",
      "False\n",
      "HELLO WORLD!\n",
      "1\n"
     ]
    }
   ],
   "source": [
    "ss=\"hello world!\"\n",
    "print(str.title(ss))\n",
    "print(str.__len__(ss))#\n",
    "print(ss.__len__())# 这两个的作用一样，因为是内置的\n",
    "print(ss.zfill(20))\n",
    "print(ss.startswith(\"H\"))\n",
    "print(ss.upper())\n",
    "print(ss.find('e'))\n",
    "#help(str)"
   ]
  },
  {
   "cell_type": "code",
   "execution_count": 34,
   "metadata": {
    "collapsed": false
   },
   "outputs": [
    {
     "name": "stdout",
     "output_type": "stream",
     "text": [
      "<generator object Calendar.iterweekdays at 0x0000000004FAE4C0>\n",
      "True\n",
      "1992-02-11 2017-11-13\n",
      "1992-02-11 2017 Mon Nov 13 00:00:00 2017\n",
      "Mon Nov 13 14:52:05 2017 \n",
      " Thu Jan 15 13:58:31 1970 \n",
      " time.struct_time(tm_year=2017, tm_mon=11, tm_mday=13, tm_hour=6, tm_min=52, tm_sec=5, tm_wday=0, tm_yday=317, tm_isdst=0) \n",
      " time.struct_time(tm_year=1970, tm_mon=1, tm_mday=26, tm_hour=17, tm_min=17, tm_sec=2, tm_wday=0, tm_yday=26, tm_isdst=0) \n",
      " 13\n"
     ]
    }
   ],
   "source": [
    "import calendar\n",
    "cal=calendar.Calendar.iterweekdays(1)\n",
    "print(str(cal))\n",
    "ss1=calendar.isleap(1992)\n",
    "print(ss1)\n",
    "\n",
    "import datetime\n",
    "from datetime import timedelta\n",
    "\n",
    "d1=timedelta(days=2)\n",
    "d1.days\n",
    "\n",
    "d2=datetime.date(1992,2,11)#构造一个自定义时间的日期\n",
    "d3=datetime.date.today()#获取今天的日期\n",
    "\n",
    "print(d2,d3)\n",
    "month1=d2.month#获取月份\n",
    "year1=d3.year\n",
    "print(d2,year1,d3.ctime())\n",
    "now1=datetime.datetime.utcnow()\n",
    "#print(now1)\n",
    "\n",
    "\n",
    "\n",
    "import time\n",
    "st1=time.ctime() #获得当前时间\n",
    "st2=time.ctime(1231111)\n",
    "st3=time.gmtime()\n",
    "st4=time.gmtime(2222222)\n",
    "#st5=time.struct_time(tm_year=2017, tm_mon=11, tm_mday=3, tm_hour=16, tm_min=30, tm_sec=31, tm_wday=4, tm_yday=307, tm_isdst=0) \n",
    "mon1=st3.tm_mday#获取日期\n",
    "print(str(st1),\"\\n\",str(st2),\"\\n\",str(st3),\"\\n\",str(st4),\"\\n\",str(mon1))\n",
    "\n",
    "\n",
    "\n",
    "#时间如何转化"
   ]
  },
  {
   "cell_type": "code",
   "execution_count": 35,
   "metadata": {
    "collapsed": false
   },
   "outputs": [
    {
     "name": "stdout",
     "output_type": "stream",
     "text": [
      "18.76721564941719 , 0.7904923324496766 , 5\n",
      "ttt\n",
      "3\n"
     ]
    }
   ],
   "source": [
    "import random\n",
    "s1=random.uniform(10, 20)\n",
    "s2=random.random()#使用模块之中的方法\n",
    "s3=random.randint(3,6)\n",
    "print(s1, \",\",s2,\",\", s3)\n",
    "m=[1,2,3,4,5,6,\"rrr\",'ttt']\n",
    "s4=random.choice(m)#从一个选定的序列中random\n",
    "print(s4)\n",
    "r1=random.Random()#创建对象，来使用类之中的方法\n",
    "s6=r1.randint(3,9)\n",
    "print(s6)"
   ]
  },
  {
   "cell_type": "code",
   "execution_count": 31,
   "metadata": {
    "collapsed": false
   },
   "outputs": [
    {
     "name": "stdout",
     "output_type": "stream",
     "text": [
      "None\n",
      "os.stat_result(st_mode=16895, st_ino=281474977044859, st_dev=18467, st_nlink=1, st_uid=0, st_gid=0, st_size=0, st_atime=1508820188, st_mtime=1508820188, st_ctime=1508820181)\n",
      "COPYRIGHT\n",
      "javafx-src.zip\n",
      "LICENSE\n",
      "README.html\n",
      "release\n",
      "src.zip\n",
      "THIRDPARTYLICENSEREADME-JAVAFX.txt\n",
      "THIRDPARTYLICENSEREADME.txt\n",
      "<module 'ntpath' from 'D:\\\\software\\\\Anaconda3\\\\lib\\\\ntpath.py'>\n",
      "nt\n",
      "D:\\maven\\localRepository\\classworlds\\classworlds\n",
      "1200 5036\n",
      "['bin', 'COPYRIGHT', 'db', 'include', 'javafx-src.zip', 'jre', 'lib', 'LICENSE', 'README.html', 'release', 'src.zip', 'THIRDPARTYLICENSEREADME-JAVAFX.txt', 'THIRDPARTYLICENSEREADME.txt']\n",
      "----------------\n",
      "jdk1.8.0_131\n",
      "1504663394.363026\n",
      "1504663207.644647\n",
      "False\n",
      "D:\\software\\Java\\jdk1.8.0_131\\123\n",
      "31072\n",
      "False\n"
     ]
    }
   ],
   "source": [
    "#os模块大多处理关于文件夹，文件的创建，文件列表，当前线程，工作目录，执行系统命令和外部命令等工作\n",
    "import os\n",
    "print(os.chdir('D://maven//localRepository//classworlds//classworlds'))\n",
    "print(os.stat('D://maven//localRepository//classworlds//classworlds'))\n",
    "os.getenv('JAVA_HOME')\n",
    "#列出文件夹之中的文件\n",
    "for entry in os.scandir('D:\\\\software\\\\Java\\\\jdk1.8.0_131'):\n",
    "    if not entry.name.startswith('.') and entry.is_file():\n",
    "        print(entry.name)\n",
    "        \n",
    "print(os.path)\n",
    "print(os.name)#返回操作系统名称\n",
    "print(os.getcwd())#返回当前的工作目录\n",
    "os.system('cmd')#调用系统命令\n",
    "os.startfile('D:\\\\software\\\\Dict\\\\Application\\\\YoudaoDict.exe')#执行某一程序\n",
    "os.mkdir(\"d:\\\\123\")#创建目录，也有创建多层次目录的命令os.mkdirs(path)\n",
    "os.rename(\"d:\\\\123\", \"d:\\\\234\") #更改目录名\n",
    "#os.remove(\"d:\\\\234\")#下面两条是删除一个目录，remove在windows下面会抛出IO异常\n",
    "os.rmdir(\"d:\\\\234\")\n",
    "print(os.getpid(),os.getppid())#返回当前的\n",
    "print(os.listdir(os.getenv('JAVA_HOME')))#列出目录\n",
    "s=open('d:\\\\123.txt','a')#这是在内置函数之中的方法，用来操作文件，最后关闭的时候写入\n",
    "s.write('hello world!')\n",
    "s.close()\n",
    "print('----------------')\n",
    "\n",
    "\n",
    "\n",
    "#os.path多处理的是文件夹，文件，路径的问题\n",
    "import os.path\n",
    "print(os.path.basename('D:\\\\software\\\\Java\\\\jdk1.8.0_131'))#名字\n",
    "print(os.path.getatime('D:\\\\software\\\\Java\\\\jdk1.8.0_131'))#该路径创建时间\n",
    "print(os.path.getctime('D:\\\\software\\\\Java\\\\jdk1.8.0_131'))\n",
    "print(os.path.islink('D:\\\\software\\\\Java\\\\jdk1.8.0_131'))#该路径是否为快捷方式\n",
    "print(os.path.realpath('D:\\\\software\\\\Java\\\\jdk1.8.0_131\\\\123'))#返回真实的路径，消除其他的分隔符\n",
    "print(os.path.getsize(('E:\\\\virtualmachine\\\\pass.png')))#返回大小\n",
    "print(os.path.isfile('D:\\\\software\\\\Java\\\\jdk1.8.0_131\\\\123'))#返回是否为文件,还有isdir()函数"
   ]
  },
  {
   "cell_type": "code",
   "execution_count": 2,
   "metadata": {
    "collapsed": false
   },
   "outputs": [
    {
     "name": "stdout",
     "output_type": "stream",
     "text": [
      "3.5.2 |Anaconda 4.2.0 (64-bit)| (default, Jul  5 2016, 11:41:13) [MSC v.1900 64 bit (AMD64)]\n",
      "win32\n",
      "utf-8\n",
      "('_ast', '_bisect', '_codecs', '_codecs_cn', '_codecs_hk', '_codecs_iso2022', '_codecs_jp', '_codecs_kr', '_codecs_tw', '_collections', '_csv', '_datetime', '_functools', '_heapq', '_imp', '_io', '_json', '_locale', '_lsprof', '_md5', '_multibytecodec', '_opcode', '_operator', '_pickle', '_random', '_sha1', '_sha256', '_sha512', '_signal', '_sre', '_stat', '_string', '_struct', '_symtable', '_thread', '_tracemalloc', '_warnings', '_weakref', '_winapi', 'array', 'atexit', 'audioop', 'binascii', 'builtins', 'cmath', 'errno', 'faulthandler', 'gc', 'itertools', 'marshal', 'math', 'mmap', 'msvcrt', 'nt', 'parser', 'sys', 'time', 'winreg', 'xxsubtype', 'zipimport', 'zlib')\n",
      "9223372036854775807\n",
      "9223372036854775807\n",
      "80\n"
     ]
    }
   ],
   "source": [
    "import sys\n",
    "#sys模块提供了一系列有关Python运行环境的变量和函数,可与interpreter相互交互\n",
    "print(sys.version)#Interpreter的版本\n",
    "print(sys.platform)#获取平台名称\n",
    "print(sys.getdefaultencoding())#获取平台编码\n",
    "print(sys.builtin_module_names)#获取内置模块的名字\n",
    "print(sys.maxsize)#返回最大的整数\n",
    "print(sys.maxsize)#返回最大的整数\n",
    "import os.path\n",
    "obj=os.path\n",
    "print(sys.getsizeof(obj))#返回对象的大小\n",
    "#可以用sys.argv获取当前正在执行的命令行参数的参数列表(list)。#sys.argv[0]表示当前程序名，#sys.argv[n]表示第n个参数\n",
    "#参考教程https://www.cnblogs.com/aland-1415/p/6613449.html\n",
    "#sys.argv[]说白了就是一个从程序外部获取参数的桥梁，这个“外部”很关键，可以将外部的参数，传递给程序内的方法之中\n",
    "#所以那些试图从代码来说明它作用的解释一直没看明白。因为我们从外部取得的参数可以是多个，\n",
    "#所以获得的是一个列表（list)，也就是说sys.argv其实可以看作是一个列表，所以才能用[]提取其中的元素。\n",
    "#其第一个元素是程序本身，随后才依次是外部给予的参数。"
   ]
  },
  {
   "cell_type": "code",
   "execution_count": 3,
   "metadata": {
    "collapsed": false
   },
   "outputs": [
    {
     "name": "stdout",
     "output_type": "stream",
     "text": [
      "22\n",
      "22\n",
      "DFS123123YYY.FDSGFDGFD\n",
      "False\n",
      "dfs123123yyy.fdsgfdgfd\n",
      "b'dfs123123YYY.fdsgfdgfd'\n",
      "False\n",
      "9\n",
      "['d', 's123123YYY.', 'dsg', 'dg', 'd']\n",
      "000000000000000000dfs123123YYY.fdsgfdgfd\n",
      "dfs123123YYY.fdsgfdgfd\n",
      "dfs123123YYY.fdsgfdgfd__________________\n",
      "__________________dfs123123YYY.fdsgfdgfd\n",
      "    dfs123123YYY.fdsgfdgfd    \n",
      "The sum of 1 + 2 is 3\n",
      "The sum of 10 * 2 is 20\n",
      "my name is rjx ,age 10 rjx\n",
      "I'm rjx. I'm 22 year old\n",
      "a-b-c\n",
      "Sdfa -Sdfsdf  -Fsdfsdfsd\n"
     ]
    }
   ],
   "source": [
    "#string模块\n",
    "#string是一个库模块，而str是一个内置模块\n",
    "s='dfs123123YYY.fdsgfdgfd'\n",
    "print(str.__len__(s))#上下两个方法作用相同，都是返回长度，__len__是str类的私有方法，而len是builtins模块的内置方法\n",
    "print(len(s))\n",
    "print(s.upper())#转化大写\n",
    "print(s.isdigit())#是否为数字\n",
    "print(s.lower())#转化小写\n",
    "print(s.encode())\n",
    "print(s.endswith('f'))\n",
    "print(s.find('YYY',2,12))#寻找一个字符在不在另一个字符之中\n",
    "print(s.split('f'))#使用一个分隔符，将字符串分割\n",
    "print(s.zfill(40))#使用0从左开始填充某一个字符串，长度为括号之中的数字\n",
    "print(s.replace('sf','123'))#替换部分字符\n",
    "print(s.ljust(40,'_'))#从左从右从中间，将字符串用第二个参数弥补成长度为40的字符串,默认字符为空格填充\n",
    "print(s.rjust(40,'_'))\n",
    "print(s.center(30))\n",
    "#https://www.cnblogs.com/vamei/archive/2013/03/12/2954938.html\n",
    "#https://www.cnblogs.com/benric/p/4965224.html\n",
    "\n",
    "print(\"The sum of 1 + 2 is {0}\".format(1+2))#使用format的新式格式化，使用{}表示参数\n",
    "print(\"The sum of 10 * 2 is %d\" %(10*2))#使用%的旧式格式化，d表示十进制数字，s表示字符串\n",
    "print('my name is {1} ,age {0} {1}'.format(10,'rjx'))#多个位置的格式化\n",
    "print(\"I'm %s. I'm %d year old\" % ('rjx', 22))\n",
    "#https://www.cnblogs.com/jsplyy/p/5634640.html\n",
    "s1='-'\n",
    "s2=('a','b','c')\n",
    "print(s1.join(s2))#使用该连接符将这个有循环的对象连接起来\n",
    "\n",
    "#string模块中的很多都是调用builtins模块之中str类的方法，只有如下一个组合方法，还有部分字段\n",
    "import string\n",
    "s4='sdfa -sdfsdf  -fsdfsdfsd'\n",
    "s5=string.capwords(s4,'-')#使用'-'做区分，并且将每个单词的首字母大写\n",
    "print(s5)"
   ]
  },
  {
   "cell_type": "code",
   "execution_count": 10,
   "metadata": {
    "collapsed": false
   },
   "outputs": [
    {
     "name": "stdout",
     "output_type": "stream",
     "text": [
      "True\n",
      "False\n",
      "[1, 2, 3, ['a', 'c'], 'd']\n",
      "[1, 2, 3, ['a', 'c'], 'd']\n",
      "[1, 2, 3, ['a', 'c'], 'd']\n",
      "[1, 2, 3, ['a', 'c'], 'd']\n",
      "[1, 2, 3, ['a', 'hello python'], 'd']\n",
      "[1, 2, 3, ['a', 'hello python'], 'd']\n",
      "[1, 2, 3, ['a', 'hello python'], 'd']\n",
      "[1, 2, 3, ['a', 'c'], 'd']\n"
     ]
    }
   ],
   "source": [
    "import copy\n",
    "s1=[1,2,3,['a','c'],'d']\n",
    "s2=s1#赋值操作\n",
    "shcps1=copy.copy(s1)#浅拷贝\n",
    "decps1=copy.deepcopy(s1)#深拷贝\n",
    "print(shcps1==decps1)\n",
    "print(shcps1 is decps1)\n",
    "print(s1)\n",
    "print(s2)\n",
    "print(shcps1)\n",
    "print(decps1)\n",
    "s1[3][1]='hello python'\n",
    "print(s1)\n",
    "print(s2)\n",
    "print(shcps1)\n",
    "print(decps1)\n",
    "#https://www.cnblogs.com/xulf/p/4320676.html\n",
    "#http://blog.csdn.net/qq_32907349/article/details/52190796"
   ]
  }
 ],
 "metadata": {
  "kernelspec": {
   "display_name": "Python [default]",
   "language": "python",
   "name": "python3"
  },
  "language_info": {
   "codemirror_mode": {
    "name": "ipython",
    "version": 3
   },
   "file_extension": ".py",
   "mimetype": "text/x-python",
   "name": "python",
   "nbconvert_exporter": "python",
   "pygments_lexer": "ipython3",
   "version": "3.5.2"
  },
  "widgets": {
   "application/vnd.jupyter.widget-state+json": {
    "state": {},
    "version_major": 1,
    "version_minor": 0
   }
  }
 },
 "nbformat": 4,
 "nbformat_minor": 2
}
