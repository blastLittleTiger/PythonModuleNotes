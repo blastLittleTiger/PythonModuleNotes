{
 "cells": [
  {
   "cell_type": "code",
   "execution_count": 39,
   "metadata": {
    "collapsed": false
   },
   "outputs": [
    {
     "name": "stdout",
     "output_type": "stream",
     "text": [
      "hello world\n"
     ]
    }
   ],
   "source": [
    "print(\"hello world\")"
   ]
  },
  {
   "cell_type": "code",
   "execution_count": 40,
   "metadata": {
    "collapsed": false
   },
   "outputs": [
    {
     "name": "stdout",
     "output_type": "stream",
     "text": [
      "123\n"
     ]
    }
   ],
   "source": [
    "class abc():\n",
    "    def __init__(self,name):\n",
    "        self.name=name\n",
    "    def printname(self):\n",
    "        print(self.name)\n",
    "        \n",
    "if __name__==\"__main__\":\n",
    "    abc=abc(123)\n",
    "    abc.printname()"
   ]
  },
  {
   "cell_type": "code",
   "execution_count": 41,
   "metadata": {
    "collapsed": false
   },
   "outputs": [
    {
     "name": "stdout",
     "output_type": "stream",
     "text": [
      "24大于10\n"
     ]
    }
   ],
   "source": [
    "def aaa(s):\n",
    "    if s>10:\n",
    "        print(str(s)+\"大于10\")\n",
    "    else:\n",
    "        print(str(s)+\"小于10\")\n",
    "        \n",
    "aaa(24)\n",
    "    "
   ]
  },
  {
   "cell_type": "code",
   "execution_count": 47,
   "metadata": {
    "collapsed": false
   },
   "outputs": [
    {
     "name": "stdout",
     "output_type": "stream",
     "text": [
      "1509538753.3486495\n",
      "<module 'ntpath' from 'D:\\\\software\\\\Anaconda3\\\\lib\\\\ntpath.py'>\n",
      "1992-01-17\n",
      "1\n",
      "9999\n"
     ]
    }
   ],
   "source": [
    "import os\n",
    "print(time.time())\n",
    "print(os.path)\n",
    "import datetime\n",
    "print(datetime.date(1992,1,17))\n",
    "#直接使用模块名，来调用相应的函数即可\n",
    "#os.startfile('C:\\Users\\renjiaxin\\Desktop\\123213.txt')\n",
    "p=datetime.date(1992,1,12)\n",
    "#如果模块的内部有类的话，使用模块名.类名.方法名()这种模式来调用\n",
    "print(p.month)\n",
    "#在帮助文档之中，用绿色标出来的Date字段，就是可以使用模块名直接访问的字段\n",
    "ss=datetime.MAXYEAR\n",
    "print(ss)"
   ]
  },
  {
   "cell_type": "code",
   "execution_count": 43,
   "metadata": {
    "collapsed": false
   },
   "outputs": [
    {
     "name": "stdout",
     "output_type": "stream",
     "text": [
      "[1, 2, 3]\n",
      "[2, 3]\n",
      "[9, 0, 1, 2, 3]\n"
     ]
    }
   ],
   "source": [
    "nest=[[1,2,3],[2,3],[9,0,1,2,3]]\n",
    "for num in nest:\n",
    "    print(num)"
   ]
  },
  {
   "cell_type": "code",
   "execution_count": 44,
   "metadata": {
    "collapsed": false
   },
   "outputs": [
    {
     "name": "stdout",
     "output_type": "stream",
     "text": [
      "2.718281828459045\n",
      "1.2246467991473532e-16\n"
     ]
    }
   ],
   "source": [
    "import math\n",
    "print(math.e)\n",
    "print(math.sin(math.pi))\n",
    "#一个模块之内，可以有多个类，或者函数，或者是模块里面的字段，\n",
    "#(接上)可以直接用模块名，去调用函数"
   ]
  },
  {
   "cell_type": "code",
   "execution_count": 54,
   "metadata": {
    "collapsed": false
   },
   "outputs": [
    {
     "name": "stdout",
     "output_type": "stream",
     "text": [
      "<module 'ntpath' from 'D:\\\\software\\\\Anaconda3\\\\lib\\\\ntpath.py'>\n",
      "3.6275792552847266\n",
      "no info!\n",
      "1992-02-02 Sun Feb  2 00:00:00 1992\n"
     ]
    }
   ],
   "source": [
    "import os\n",
    "print(os.path)\n",
    "import math\n",
    "s=math.sin(2)#使用模块名直接调用模块之中的方法\n",
    "f=s+math.e#模块可以直接调用模块之中的字段，在文档之中用绿色标识在最后标注出来\n",
    "print(f)\n",
    "import datetime\n",
    "tt=datetime.date(1992,2,2)\n",
    "ss=tt.ctime()\n",
    "if(ss==tt):\n",
    "    print(ss+str(\"!=\")+tt)\n",
    "else:\n",
    "    print(\"no info!\")\n",
    "print(tt,ss)"
   ]
  }
 ],
 "metadata": {
  "kernelspec": {
   "display_name": "Python [default]",
   "language": "python",
   "name": "python3"
  },
  "language_info": {
   "codemirror_mode": {
    "name": "ipython",
    "version": 3
   },
   "file_extension": ".py",
   "mimetype": "text/x-python",
   "name": "python",
   "nbconvert_exporter": "python",
   "pygments_lexer": "ipython3",
   "version": "3.5.2"
  },
  "widgets": {
   "application/vnd.jupyter.widget-state+json": {
    "state": {},
    "version_major": 1,
    "version_minor": 0
   }
  }
 },
 "nbformat": 4,
 "nbformat_minor": 2
}
